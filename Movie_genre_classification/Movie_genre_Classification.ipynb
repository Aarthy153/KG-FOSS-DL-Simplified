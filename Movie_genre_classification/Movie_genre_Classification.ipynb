{
  "nbformat": 4,
  "nbformat_minor": 0,
  "metadata": {
    "colab": {
      "provenance": []
    },
    "kernelspec": {
      "name": "python3",
      "display_name": "Python 3"
    },
    "language_info": {
      "name": "python"
    }
  },
  "cells": [
    {
      "cell_type": "markdown",
      "source": [
        "**Movie genre classification**"
      ],
      "metadata": {
        "id": "gf6MOfLZKURf"
      }
    },
    {
      "cell_type": "code",
      "execution_count": 31,
      "metadata": {
        "id": "GoVxQBpTKSNs"
      },
      "outputs": [],
      "source": [
        "import pandas as pd\n",
        "import seaborn as sns\n",
        "import matplotlib.pyplot as plt"
      ]
    },
    {
      "cell_type": "code",
      "source": [
        "data=pd.read_csv(\"IMDb_All_Genres.csv\")\n",
        "data"
      ],
      "metadata": {
        "colab": {
          "base_uri": "https://localhost:8080/",
          "height": 797
        },
        "id": "DglhI1goKspM",
        "outputId": "57c1291f-24e7-4e28-c09f-ca4b07664a3e"
      },
      "execution_count": 32,
      "outputs": [
        {
          "output_type": "execute_result",
          "data": {
            "text/plain": [
              "                                        Movie_Title  Year  \\\n",
              "0                                           Kantara  2022   \n",
              "1                                   The Dark Knight  2008   \n",
              "2     The Lord of the Rings: The Return of the King  2003   \n",
              "3                                         Inception  2010   \n",
              "4             The Lord of the Rings: The Two Towers  2002   \n",
              "...                                             ...   ...   \n",
              "5557                                 Disaster Movie  2008   \n",
              "5558                        The Hottie & the Nottie  2008   \n",
              "5559                           From Justin to Kelly  2003   \n",
              "5560                   Superbabies: Baby Geniuses 2  2004   \n",
              "5561                 Cumali Ceber: Allah Seni Alsin  2017   \n",
              "\n",
              "                                      Director  \\\n",
              "0                                Rishab Shetty   \n",
              "1                            Christopher Nolan   \n",
              "2                                Peter Jackson   \n",
              "3                            Christopher Nolan   \n",
              "4                                Peter Jackson   \n",
              "...                                        ...   \n",
              "5557  Directors:Jason Friedberg, Aaron Seltzer   \n",
              "5558                                Tom Putnam   \n",
              "5559                             Robert Iscove   \n",
              "5560                                 Bob Clark   \n",
              "5561                                Gökhan Gök   \n",
              "\n",
              "                                                 Actors  Rating  \\\n",
              "0     Rishab Shetty, Sapthami Gowda, Kishore Kumar G...     9.3   \n",
              "1     Christian Bale, Heath Ledger, Aaron Eckhart, M...     9.0   \n",
              "2     Elijah Wood, Viggo Mortensen, Ian McKellen, Or...     9.0   \n",
              "3     Leonardo DiCaprio, Joseph Gordon-Levitt, Ellio...     8.8   \n",
              "4     Elijah Wood, Ian McKellen, Viggo Mortensen, Or...     8.8   \n",
              "...                                                 ...     ...   \n",
              "5557  Carmen Electra, Vanessa Lachey, Nicole Parker,...     1.9   \n",
              "5558  Paris Hilton, Joel David Moore, Christine Laki...     1.9   \n",
              "5559  Kelly Clarkson, Justin Guarini, Katherine Bail...     1.9   \n",
              "5560  Jon Voight, Scott Baio, Vanessa Angel, Skyler ...     1.5   \n",
              "5561  Halil Söyletmez, Doga Konakoglu, Emre Keskin, ...     1.0   \n",
              "\n",
              "      Runtime(Mins)     Censor   Total_Gross main_genre           side_genre  \n",
              "0               148         UA  Gross Unkown     Action    Adventure,  Drama  \n",
              "1               152         UA      $534.86M     Action        Crime,  Drama  \n",
              "2               201          U      $377.85M     Action    Adventure,  Drama  \n",
              "3               148         UA      $292.58M     Action   Adventure,  Sci-Fi  \n",
              "4               179         UA      $342.55M     Action    Adventure,  Drama  \n",
              "...             ...        ...           ...        ...                  ...  \n",
              "5557             87      PG-13       $14.19M     Comedy               Sci-Fi  \n",
              "5558             91      PG-13        $0.03M     Comedy              Romance  \n",
              "5559             81         PG        $4.92M     Comedy    Musical,  Romance  \n",
              "5560             88         PG        $9.11M     Comedy      Family,  Sci-Fi  \n",
              "5561            100  Not Rated  Gross Unkown     Comedy               Comedy  \n",
              "\n",
              "[5562 rows x 10 columns]"
            ],
            "text/html": [
              "\n",
              "  <div id=\"df-eec1e9ea-3ae3-407c-a848-2390b1b3d318\">\n",
              "    <div class=\"colab-df-container\">\n",
              "      <div>\n",
              "<style scoped>\n",
              "    .dataframe tbody tr th:only-of-type {\n",
              "        vertical-align: middle;\n",
              "    }\n",
              "\n",
              "    .dataframe tbody tr th {\n",
              "        vertical-align: top;\n",
              "    }\n",
              "\n",
              "    .dataframe thead th {\n",
              "        text-align: right;\n",
              "    }\n",
              "</style>\n",
              "<table border=\"1\" class=\"dataframe\">\n",
              "  <thead>\n",
              "    <tr style=\"text-align: right;\">\n",
              "      <th></th>\n",
              "      <th>Movie_Title</th>\n",
              "      <th>Year</th>\n",
              "      <th>Director</th>\n",
              "      <th>Actors</th>\n",
              "      <th>Rating</th>\n",
              "      <th>Runtime(Mins)</th>\n",
              "      <th>Censor</th>\n",
              "      <th>Total_Gross</th>\n",
              "      <th>main_genre</th>\n",
              "      <th>side_genre</th>\n",
              "    </tr>\n",
              "  </thead>\n",
              "  <tbody>\n",
              "    <tr>\n",
              "      <th>0</th>\n",
              "      <td>Kantara</td>\n",
              "      <td>2022</td>\n",
              "      <td>Rishab Shetty</td>\n",
              "      <td>Rishab Shetty, Sapthami Gowda, Kishore Kumar G...</td>\n",
              "      <td>9.3</td>\n",
              "      <td>148</td>\n",
              "      <td>UA</td>\n",
              "      <td>Gross Unkown</td>\n",
              "      <td>Action</td>\n",
              "      <td>Adventure,  Drama</td>\n",
              "    </tr>\n",
              "    <tr>\n",
              "      <th>1</th>\n",
              "      <td>The Dark Knight</td>\n",
              "      <td>2008</td>\n",
              "      <td>Christopher Nolan</td>\n",
              "      <td>Christian Bale, Heath Ledger, Aaron Eckhart, M...</td>\n",
              "      <td>9.0</td>\n",
              "      <td>152</td>\n",
              "      <td>UA</td>\n",
              "      <td>$534.86M</td>\n",
              "      <td>Action</td>\n",
              "      <td>Crime,  Drama</td>\n",
              "    </tr>\n",
              "    <tr>\n",
              "      <th>2</th>\n",
              "      <td>The Lord of the Rings: The Return of the King</td>\n",
              "      <td>2003</td>\n",
              "      <td>Peter Jackson</td>\n",
              "      <td>Elijah Wood, Viggo Mortensen, Ian McKellen, Or...</td>\n",
              "      <td>9.0</td>\n",
              "      <td>201</td>\n",
              "      <td>U</td>\n",
              "      <td>$377.85M</td>\n",
              "      <td>Action</td>\n",
              "      <td>Adventure,  Drama</td>\n",
              "    </tr>\n",
              "    <tr>\n",
              "      <th>3</th>\n",
              "      <td>Inception</td>\n",
              "      <td>2010</td>\n",
              "      <td>Christopher Nolan</td>\n",
              "      <td>Leonardo DiCaprio, Joseph Gordon-Levitt, Ellio...</td>\n",
              "      <td>8.8</td>\n",
              "      <td>148</td>\n",
              "      <td>UA</td>\n",
              "      <td>$292.58M</td>\n",
              "      <td>Action</td>\n",
              "      <td>Adventure,  Sci-Fi</td>\n",
              "    </tr>\n",
              "    <tr>\n",
              "      <th>4</th>\n",
              "      <td>The Lord of the Rings: The Two Towers</td>\n",
              "      <td>2002</td>\n",
              "      <td>Peter Jackson</td>\n",
              "      <td>Elijah Wood, Ian McKellen, Viggo Mortensen, Or...</td>\n",
              "      <td>8.8</td>\n",
              "      <td>179</td>\n",
              "      <td>UA</td>\n",
              "      <td>$342.55M</td>\n",
              "      <td>Action</td>\n",
              "      <td>Adventure,  Drama</td>\n",
              "    </tr>\n",
              "    <tr>\n",
              "      <th>...</th>\n",
              "      <td>...</td>\n",
              "      <td>...</td>\n",
              "      <td>...</td>\n",
              "      <td>...</td>\n",
              "      <td>...</td>\n",
              "      <td>...</td>\n",
              "      <td>...</td>\n",
              "      <td>...</td>\n",
              "      <td>...</td>\n",
              "      <td>...</td>\n",
              "    </tr>\n",
              "    <tr>\n",
              "      <th>5557</th>\n",
              "      <td>Disaster Movie</td>\n",
              "      <td>2008</td>\n",
              "      <td>Directors:Jason Friedberg, Aaron Seltzer</td>\n",
              "      <td>Carmen Electra, Vanessa Lachey, Nicole Parker,...</td>\n",
              "      <td>1.9</td>\n",
              "      <td>87</td>\n",
              "      <td>PG-13</td>\n",
              "      <td>$14.19M</td>\n",
              "      <td>Comedy</td>\n",
              "      <td>Sci-Fi</td>\n",
              "    </tr>\n",
              "    <tr>\n",
              "      <th>5558</th>\n",
              "      <td>The Hottie &amp; the Nottie</td>\n",
              "      <td>2008</td>\n",
              "      <td>Tom Putnam</td>\n",
              "      <td>Paris Hilton, Joel David Moore, Christine Laki...</td>\n",
              "      <td>1.9</td>\n",
              "      <td>91</td>\n",
              "      <td>PG-13</td>\n",
              "      <td>$0.03M</td>\n",
              "      <td>Comedy</td>\n",
              "      <td>Romance</td>\n",
              "    </tr>\n",
              "    <tr>\n",
              "      <th>5559</th>\n",
              "      <td>From Justin to Kelly</td>\n",
              "      <td>2003</td>\n",
              "      <td>Robert Iscove</td>\n",
              "      <td>Kelly Clarkson, Justin Guarini, Katherine Bail...</td>\n",
              "      <td>1.9</td>\n",
              "      <td>81</td>\n",
              "      <td>PG</td>\n",
              "      <td>$4.92M</td>\n",
              "      <td>Comedy</td>\n",
              "      <td>Musical,  Romance</td>\n",
              "    </tr>\n",
              "    <tr>\n",
              "      <th>5560</th>\n",
              "      <td>Superbabies: Baby Geniuses 2</td>\n",
              "      <td>2004</td>\n",
              "      <td>Bob Clark</td>\n",
              "      <td>Jon Voight, Scott Baio, Vanessa Angel, Skyler ...</td>\n",
              "      <td>1.5</td>\n",
              "      <td>88</td>\n",
              "      <td>PG</td>\n",
              "      <td>$9.11M</td>\n",
              "      <td>Comedy</td>\n",
              "      <td>Family,  Sci-Fi</td>\n",
              "    </tr>\n",
              "    <tr>\n",
              "      <th>5561</th>\n",
              "      <td>Cumali Ceber: Allah Seni Alsin</td>\n",
              "      <td>2017</td>\n",
              "      <td>Gökhan Gök</td>\n",
              "      <td>Halil Söyletmez, Doga Konakoglu, Emre Keskin, ...</td>\n",
              "      <td>1.0</td>\n",
              "      <td>100</td>\n",
              "      <td>Not Rated</td>\n",
              "      <td>Gross Unkown</td>\n",
              "      <td>Comedy</td>\n",
              "      <td>Comedy</td>\n",
              "    </tr>\n",
              "  </tbody>\n",
              "</table>\n",
              "<p>5562 rows × 10 columns</p>\n",
              "</div>\n",
              "      <button class=\"colab-df-convert\" onclick=\"convertToInteractive('df-eec1e9ea-3ae3-407c-a848-2390b1b3d318')\"\n",
              "              title=\"Convert this dataframe to an interactive table.\"\n",
              "              style=\"display:none;\">\n",
              "        \n",
              "  <svg xmlns=\"http://www.w3.org/2000/svg\" height=\"24px\"viewBox=\"0 0 24 24\"\n",
              "       width=\"24px\">\n",
              "    <path d=\"M0 0h24v24H0V0z\" fill=\"none\"/>\n",
              "    <path d=\"M18.56 5.44l.94 2.06.94-2.06 2.06-.94-2.06-.94-.94-2.06-.94 2.06-2.06.94zm-11 1L8.5 8.5l.94-2.06 2.06-.94-2.06-.94L8.5 2.5l-.94 2.06-2.06.94zm10 10l.94 2.06.94-2.06 2.06-.94-2.06-.94-.94-2.06-.94 2.06-2.06.94z\"/><path d=\"M17.41 7.96l-1.37-1.37c-.4-.4-.92-.59-1.43-.59-.52 0-1.04.2-1.43.59L10.3 9.45l-7.72 7.72c-.78.78-.78 2.05 0 2.83L4 21.41c.39.39.9.59 1.41.59.51 0 1.02-.2 1.41-.59l7.78-7.78 2.81-2.81c.8-.78.8-2.07 0-2.86zM5.41 20L4 18.59l7.72-7.72 1.47 1.35L5.41 20z\"/>\n",
              "  </svg>\n",
              "      </button>\n",
              "      \n",
              "  <style>\n",
              "    .colab-df-container {\n",
              "      display:flex;\n",
              "      flex-wrap:wrap;\n",
              "      gap: 12px;\n",
              "    }\n",
              "\n",
              "    .colab-df-convert {\n",
              "      background-color: #E8F0FE;\n",
              "      border: none;\n",
              "      border-radius: 50%;\n",
              "      cursor: pointer;\n",
              "      display: none;\n",
              "      fill: #1967D2;\n",
              "      height: 32px;\n",
              "      padding: 0 0 0 0;\n",
              "      width: 32px;\n",
              "    }\n",
              "\n",
              "    .colab-df-convert:hover {\n",
              "      background-color: #E2EBFA;\n",
              "      box-shadow: 0px 1px 2px rgba(60, 64, 67, 0.3), 0px 1px 3px 1px rgba(60, 64, 67, 0.15);\n",
              "      fill: #174EA6;\n",
              "    }\n",
              "\n",
              "    [theme=dark] .colab-df-convert {\n",
              "      background-color: #3B4455;\n",
              "      fill: #D2E3FC;\n",
              "    }\n",
              "\n",
              "    [theme=dark] .colab-df-convert:hover {\n",
              "      background-color: #434B5C;\n",
              "      box-shadow: 0px 1px 3px 1px rgba(0, 0, 0, 0.15);\n",
              "      filter: drop-shadow(0px 1px 2px rgba(0, 0, 0, 0.3));\n",
              "      fill: #FFFFFF;\n",
              "    }\n",
              "  </style>\n",
              "\n",
              "      <script>\n",
              "        const buttonEl =\n",
              "          document.querySelector('#df-eec1e9ea-3ae3-407c-a848-2390b1b3d318 button.colab-df-convert');\n",
              "        buttonEl.style.display =\n",
              "          google.colab.kernel.accessAllowed ? 'block' : 'none';\n",
              "\n",
              "        async function convertToInteractive(key) {\n",
              "          const element = document.querySelector('#df-eec1e9ea-3ae3-407c-a848-2390b1b3d318');\n",
              "          const dataTable =\n",
              "            await google.colab.kernel.invokeFunction('convertToInteractive',\n",
              "                                                     [key], {});\n",
              "          if (!dataTable) return;\n",
              "\n",
              "          const docLinkHtml = 'Like what you see? Visit the ' +\n",
              "            '<a target=\"_blank\" href=https://colab.research.google.com/notebooks/data_table.ipynb>data table notebook</a>'\n",
              "            + ' to learn more about interactive tables.';\n",
              "          element.innerHTML = '';\n",
              "          dataTable['output_type'] = 'display_data';\n",
              "          await google.colab.output.renderOutput(dataTable, element);\n",
              "          const docLink = document.createElement('div');\n",
              "          docLink.innerHTML = docLinkHtml;\n",
              "          element.appendChild(docLink);\n",
              "        }\n",
              "      </script>\n",
              "    </div>\n",
              "  </div>\n",
              "  "
            ]
          },
          "metadata": {},
          "execution_count": 32
        }
      ]
    },
    {
      "cell_type": "code",
      "source": [
        "data.head()"
      ],
      "metadata": {
        "colab": {
          "base_uri": "https://localhost:8080/",
          "height": 354
        },
        "id": "d7pHdHvgMZXo",
        "outputId": "a58da0cb-40ba-4068-f3cd-173aa79c4f2a"
      },
      "execution_count": 33,
      "outputs": [
        {
          "output_type": "execute_result",
          "data": {
            "text/plain": [
              "                                     Movie_Title  Year           Director  \\\n",
              "0                                        Kantara  2022      Rishab Shetty   \n",
              "1                                The Dark Knight  2008  Christopher Nolan   \n",
              "2  The Lord of the Rings: The Return of the King  2003      Peter Jackson   \n",
              "3                                      Inception  2010  Christopher Nolan   \n",
              "4          The Lord of the Rings: The Two Towers  2002      Peter Jackson   \n",
              "\n",
              "                                              Actors  Rating  Runtime(Mins)  \\\n",
              "0  Rishab Shetty, Sapthami Gowda, Kishore Kumar G...     9.3            148   \n",
              "1  Christian Bale, Heath Ledger, Aaron Eckhart, M...     9.0            152   \n",
              "2  Elijah Wood, Viggo Mortensen, Ian McKellen, Or...     9.0            201   \n",
              "3  Leonardo DiCaprio, Joseph Gordon-Levitt, Ellio...     8.8            148   \n",
              "4  Elijah Wood, Ian McKellen, Viggo Mortensen, Or...     8.8            179   \n",
              "\n",
              "  Censor   Total_Gross main_genre           side_genre  \n",
              "0     UA  Gross Unkown     Action    Adventure,  Drama  \n",
              "1     UA      $534.86M     Action        Crime,  Drama  \n",
              "2      U      $377.85M     Action    Adventure,  Drama  \n",
              "3     UA      $292.58M     Action   Adventure,  Sci-Fi  \n",
              "4     UA      $342.55M     Action    Adventure,  Drama  "
            ],
            "text/html": [
              "\n",
              "  <div id=\"df-7ef6326a-68d2-4d3c-801b-b9132f8afcff\">\n",
              "    <div class=\"colab-df-container\">\n",
              "      <div>\n",
              "<style scoped>\n",
              "    .dataframe tbody tr th:only-of-type {\n",
              "        vertical-align: middle;\n",
              "    }\n",
              "\n",
              "    .dataframe tbody tr th {\n",
              "        vertical-align: top;\n",
              "    }\n",
              "\n",
              "    .dataframe thead th {\n",
              "        text-align: right;\n",
              "    }\n",
              "</style>\n",
              "<table border=\"1\" class=\"dataframe\">\n",
              "  <thead>\n",
              "    <tr style=\"text-align: right;\">\n",
              "      <th></th>\n",
              "      <th>Movie_Title</th>\n",
              "      <th>Year</th>\n",
              "      <th>Director</th>\n",
              "      <th>Actors</th>\n",
              "      <th>Rating</th>\n",
              "      <th>Runtime(Mins)</th>\n",
              "      <th>Censor</th>\n",
              "      <th>Total_Gross</th>\n",
              "      <th>main_genre</th>\n",
              "      <th>side_genre</th>\n",
              "    </tr>\n",
              "  </thead>\n",
              "  <tbody>\n",
              "    <tr>\n",
              "      <th>0</th>\n",
              "      <td>Kantara</td>\n",
              "      <td>2022</td>\n",
              "      <td>Rishab Shetty</td>\n",
              "      <td>Rishab Shetty, Sapthami Gowda, Kishore Kumar G...</td>\n",
              "      <td>9.3</td>\n",
              "      <td>148</td>\n",
              "      <td>UA</td>\n",
              "      <td>Gross Unkown</td>\n",
              "      <td>Action</td>\n",
              "      <td>Adventure,  Drama</td>\n",
              "    </tr>\n",
              "    <tr>\n",
              "      <th>1</th>\n",
              "      <td>The Dark Knight</td>\n",
              "      <td>2008</td>\n",
              "      <td>Christopher Nolan</td>\n",
              "      <td>Christian Bale, Heath Ledger, Aaron Eckhart, M...</td>\n",
              "      <td>9.0</td>\n",
              "      <td>152</td>\n",
              "      <td>UA</td>\n",
              "      <td>$534.86M</td>\n",
              "      <td>Action</td>\n",
              "      <td>Crime,  Drama</td>\n",
              "    </tr>\n",
              "    <tr>\n",
              "      <th>2</th>\n",
              "      <td>The Lord of the Rings: The Return of the King</td>\n",
              "      <td>2003</td>\n",
              "      <td>Peter Jackson</td>\n",
              "      <td>Elijah Wood, Viggo Mortensen, Ian McKellen, Or...</td>\n",
              "      <td>9.0</td>\n",
              "      <td>201</td>\n",
              "      <td>U</td>\n",
              "      <td>$377.85M</td>\n",
              "      <td>Action</td>\n",
              "      <td>Adventure,  Drama</td>\n",
              "    </tr>\n",
              "    <tr>\n",
              "      <th>3</th>\n",
              "      <td>Inception</td>\n",
              "      <td>2010</td>\n",
              "      <td>Christopher Nolan</td>\n",
              "      <td>Leonardo DiCaprio, Joseph Gordon-Levitt, Ellio...</td>\n",
              "      <td>8.8</td>\n",
              "      <td>148</td>\n",
              "      <td>UA</td>\n",
              "      <td>$292.58M</td>\n",
              "      <td>Action</td>\n",
              "      <td>Adventure,  Sci-Fi</td>\n",
              "    </tr>\n",
              "    <tr>\n",
              "      <th>4</th>\n",
              "      <td>The Lord of the Rings: The Two Towers</td>\n",
              "      <td>2002</td>\n",
              "      <td>Peter Jackson</td>\n",
              "      <td>Elijah Wood, Ian McKellen, Viggo Mortensen, Or...</td>\n",
              "      <td>8.8</td>\n",
              "      <td>179</td>\n",
              "      <td>UA</td>\n",
              "      <td>$342.55M</td>\n",
              "      <td>Action</td>\n",
              "      <td>Adventure,  Drama</td>\n",
              "    </tr>\n",
              "  </tbody>\n",
              "</table>\n",
              "</div>\n",
              "      <button class=\"colab-df-convert\" onclick=\"convertToInteractive('df-7ef6326a-68d2-4d3c-801b-b9132f8afcff')\"\n",
              "              title=\"Convert this dataframe to an interactive table.\"\n",
              "              style=\"display:none;\">\n",
              "        \n",
              "  <svg xmlns=\"http://www.w3.org/2000/svg\" height=\"24px\"viewBox=\"0 0 24 24\"\n",
              "       width=\"24px\">\n",
              "    <path d=\"M0 0h24v24H0V0z\" fill=\"none\"/>\n",
              "    <path d=\"M18.56 5.44l.94 2.06.94-2.06 2.06-.94-2.06-.94-.94-2.06-.94 2.06-2.06.94zm-11 1L8.5 8.5l.94-2.06 2.06-.94-2.06-.94L8.5 2.5l-.94 2.06-2.06.94zm10 10l.94 2.06.94-2.06 2.06-.94-2.06-.94-.94-2.06-.94 2.06-2.06.94z\"/><path d=\"M17.41 7.96l-1.37-1.37c-.4-.4-.92-.59-1.43-.59-.52 0-1.04.2-1.43.59L10.3 9.45l-7.72 7.72c-.78.78-.78 2.05 0 2.83L4 21.41c.39.39.9.59 1.41.59.51 0 1.02-.2 1.41-.59l7.78-7.78 2.81-2.81c.8-.78.8-2.07 0-2.86zM5.41 20L4 18.59l7.72-7.72 1.47 1.35L5.41 20z\"/>\n",
              "  </svg>\n",
              "      </button>\n",
              "      \n",
              "  <style>\n",
              "    .colab-df-container {\n",
              "      display:flex;\n",
              "      flex-wrap:wrap;\n",
              "      gap: 12px;\n",
              "    }\n",
              "\n",
              "    .colab-df-convert {\n",
              "      background-color: #E8F0FE;\n",
              "      border: none;\n",
              "      border-radius: 50%;\n",
              "      cursor: pointer;\n",
              "      display: none;\n",
              "      fill: #1967D2;\n",
              "      height: 32px;\n",
              "      padding: 0 0 0 0;\n",
              "      width: 32px;\n",
              "    }\n",
              "\n",
              "    .colab-df-convert:hover {\n",
              "      background-color: #E2EBFA;\n",
              "      box-shadow: 0px 1px 2px rgba(60, 64, 67, 0.3), 0px 1px 3px 1px rgba(60, 64, 67, 0.15);\n",
              "      fill: #174EA6;\n",
              "    }\n",
              "\n",
              "    [theme=dark] .colab-df-convert {\n",
              "      background-color: #3B4455;\n",
              "      fill: #D2E3FC;\n",
              "    }\n",
              "\n",
              "    [theme=dark] .colab-df-convert:hover {\n",
              "      background-color: #434B5C;\n",
              "      box-shadow: 0px 1px 3px 1px rgba(0, 0, 0, 0.15);\n",
              "      filter: drop-shadow(0px 1px 2px rgba(0, 0, 0, 0.3));\n",
              "      fill: #FFFFFF;\n",
              "    }\n",
              "  </style>\n",
              "\n",
              "      <script>\n",
              "        const buttonEl =\n",
              "          document.querySelector('#df-7ef6326a-68d2-4d3c-801b-b9132f8afcff button.colab-df-convert');\n",
              "        buttonEl.style.display =\n",
              "          google.colab.kernel.accessAllowed ? 'block' : 'none';\n",
              "\n",
              "        async function convertToInteractive(key) {\n",
              "          const element = document.querySelector('#df-7ef6326a-68d2-4d3c-801b-b9132f8afcff');\n",
              "          const dataTable =\n",
              "            await google.colab.kernel.invokeFunction('convertToInteractive',\n",
              "                                                     [key], {});\n",
              "          if (!dataTable) return;\n",
              "\n",
              "          const docLinkHtml = 'Like what you see? Visit the ' +\n",
              "            '<a target=\"_blank\" href=https://colab.research.google.com/notebooks/data_table.ipynb>data table notebook</a>'\n",
              "            + ' to learn more about interactive tables.';\n",
              "          element.innerHTML = '';\n",
              "          dataTable['output_type'] = 'display_data';\n",
              "          await google.colab.output.renderOutput(dataTable, element);\n",
              "          const docLink = document.createElement('div');\n",
              "          docLink.innerHTML = docLinkHtml;\n",
              "          element.appendChild(docLink);\n",
              "        }\n",
              "      </script>\n",
              "    </div>\n",
              "  </div>\n",
              "  "
            ]
          },
          "metadata": {},
          "execution_count": 33
        }
      ]
    },
    {
      "cell_type": "code",
      "source": [
        "data.tail()"
      ],
      "metadata": {
        "colab": {
          "base_uri": "https://localhost:8080/",
          "height": 389
        },
        "id": "UjtxdR_TMlHp",
        "outputId": "573d115e-8780-4be1-ae33-a5b5f72b5df9"
      },
      "execution_count": 34,
      "outputs": [
        {
          "output_type": "execute_result",
          "data": {
            "text/plain": [
              "                         Movie_Title  Year  \\\n",
              "5557                  Disaster Movie  2008   \n",
              "5558         The Hottie & the Nottie  2008   \n",
              "5559            From Justin to Kelly  2003   \n",
              "5560    Superbabies: Baby Geniuses 2  2004   \n",
              "5561  Cumali Ceber: Allah Seni Alsin  2017   \n",
              "\n",
              "                                      Director  \\\n",
              "5557  Directors:Jason Friedberg, Aaron Seltzer   \n",
              "5558                                Tom Putnam   \n",
              "5559                             Robert Iscove   \n",
              "5560                                 Bob Clark   \n",
              "5561                                Gökhan Gök   \n",
              "\n",
              "                                                 Actors  Rating  \\\n",
              "5557  Carmen Electra, Vanessa Lachey, Nicole Parker,...     1.9   \n",
              "5558  Paris Hilton, Joel David Moore, Christine Laki...     1.9   \n",
              "5559  Kelly Clarkson, Justin Guarini, Katherine Bail...     1.9   \n",
              "5560  Jon Voight, Scott Baio, Vanessa Angel, Skyler ...     1.5   \n",
              "5561  Halil Söyletmez, Doga Konakoglu, Emre Keskin, ...     1.0   \n",
              "\n",
              "      Runtime(Mins)     Censor   Total_Gross main_genre          side_genre  \n",
              "5557             87      PG-13       $14.19M     Comedy              Sci-Fi  \n",
              "5558             91      PG-13        $0.03M     Comedy             Romance  \n",
              "5559             81         PG        $4.92M     Comedy   Musical,  Romance  \n",
              "5560             88         PG        $9.11M     Comedy     Family,  Sci-Fi  \n",
              "5561            100  Not Rated  Gross Unkown     Comedy              Comedy  "
            ],
            "text/html": [
              "\n",
              "  <div id=\"df-c2c73579-9cba-4b12-b871-d201543f5994\">\n",
              "    <div class=\"colab-df-container\">\n",
              "      <div>\n",
              "<style scoped>\n",
              "    .dataframe tbody tr th:only-of-type {\n",
              "        vertical-align: middle;\n",
              "    }\n",
              "\n",
              "    .dataframe tbody tr th {\n",
              "        vertical-align: top;\n",
              "    }\n",
              "\n",
              "    .dataframe thead th {\n",
              "        text-align: right;\n",
              "    }\n",
              "</style>\n",
              "<table border=\"1\" class=\"dataframe\">\n",
              "  <thead>\n",
              "    <tr style=\"text-align: right;\">\n",
              "      <th></th>\n",
              "      <th>Movie_Title</th>\n",
              "      <th>Year</th>\n",
              "      <th>Director</th>\n",
              "      <th>Actors</th>\n",
              "      <th>Rating</th>\n",
              "      <th>Runtime(Mins)</th>\n",
              "      <th>Censor</th>\n",
              "      <th>Total_Gross</th>\n",
              "      <th>main_genre</th>\n",
              "      <th>side_genre</th>\n",
              "    </tr>\n",
              "  </thead>\n",
              "  <tbody>\n",
              "    <tr>\n",
              "      <th>5557</th>\n",
              "      <td>Disaster Movie</td>\n",
              "      <td>2008</td>\n",
              "      <td>Directors:Jason Friedberg, Aaron Seltzer</td>\n",
              "      <td>Carmen Electra, Vanessa Lachey, Nicole Parker,...</td>\n",
              "      <td>1.9</td>\n",
              "      <td>87</td>\n",
              "      <td>PG-13</td>\n",
              "      <td>$14.19M</td>\n",
              "      <td>Comedy</td>\n",
              "      <td>Sci-Fi</td>\n",
              "    </tr>\n",
              "    <tr>\n",
              "      <th>5558</th>\n",
              "      <td>The Hottie &amp; the Nottie</td>\n",
              "      <td>2008</td>\n",
              "      <td>Tom Putnam</td>\n",
              "      <td>Paris Hilton, Joel David Moore, Christine Laki...</td>\n",
              "      <td>1.9</td>\n",
              "      <td>91</td>\n",
              "      <td>PG-13</td>\n",
              "      <td>$0.03M</td>\n",
              "      <td>Comedy</td>\n",
              "      <td>Romance</td>\n",
              "    </tr>\n",
              "    <tr>\n",
              "      <th>5559</th>\n",
              "      <td>From Justin to Kelly</td>\n",
              "      <td>2003</td>\n",
              "      <td>Robert Iscove</td>\n",
              "      <td>Kelly Clarkson, Justin Guarini, Katherine Bail...</td>\n",
              "      <td>1.9</td>\n",
              "      <td>81</td>\n",
              "      <td>PG</td>\n",
              "      <td>$4.92M</td>\n",
              "      <td>Comedy</td>\n",
              "      <td>Musical,  Romance</td>\n",
              "    </tr>\n",
              "    <tr>\n",
              "      <th>5560</th>\n",
              "      <td>Superbabies: Baby Geniuses 2</td>\n",
              "      <td>2004</td>\n",
              "      <td>Bob Clark</td>\n",
              "      <td>Jon Voight, Scott Baio, Vanessa Angel, Skyler ...</td>\n",
              "      <td>1.5</td>\n",
              "      <td>88</td>\n",
              "      <td>PG</td>\n",
              "      <td>$9.11M</td>\n",
              "      <td>Comedy</td>\n",
              "      <td>Family,  Sci-Fi</td>\n",
              "    </tr>\n",
              "    <tr>\n",
              "      <th>5561</th>\n",
              "      <td>Cumali Ceber: Allah Seni Alsin</td>\n",
              "      <td>2017</td>\n",
              "      <td>Gökhan Gök</td>\n",
              "      <td>Halil Söyletmez, Doga Konakoglu, Emre Keskin, ...</td>\n",
              "      <td>1.0</td>\n",
              "      <td>100</td>\n",
              "      <td>Not Rated</td>\n",
              "      <td>Gross Unkown</td>\n",
              "      <td>Comedy</td>\n",
              "      <td>Comedy</td>\n",
              "    </tr>\n",
              "  </tbody>\n",
              "</table>\n",
              "</div>\n",
              "      <button class=\"colab-df-convert\" onclick=\"convertToInteractive('df-c2c73579-9cba-4b12-b871-d201543f5994')\"\n",
              "              title=\"Convert this dataframe to an interactive table.\"\n",
              "              style=\"display:none;\">\n",
              "        \n",
              "  <svg xmlns=\"http://www.w3.org/2000/svg\" height=\"24px\"viewBox=\"0 0 24 24\"\n",
              "       width=\"24px\">\n",
              "    <path d=\"M0 0h24v24H0V0z\" fill=\"none\"/>\n",
              "    <path d=\"M18.56 5.44l.94 2.06.94-2.06 2.06-.94-2.06-.94-.94-2.06-.94 2.06-2.06.94zm-11 1L8.5 8.5l.94-2.06 2.06-.94-2.06-.94L8.5 2.5l-.94 2.06-2.06.94zm10 10l.94 2.06.94-2.06 2.06-.94-2.06-.94-.94-2.06-.94 2.06-2.06.94z\"/><path d=\"M17.41 7.96l-1.37-1.37c-.4-.4-.92-.59-1.43-.59-.52 0-1.04.2-1.43.59L10.3 9.45l-7.72 7.72c-.78.78-.78 2.05 0 2.83L4 21.41c.39.39.9.59 1.41.59.51 0 1.02-.2 1.41-.59l7.78-7.78 2.81-2.81c.8-.78.8-2.07 0-2.86zM5.41 20L4 18.59l7.72-7.72 1.47 1.35L5.41 20z\"/>\n",
              "  </svg>\n",
              "      </button>\n",
              "      \n",
              "  <style>\n",
              "    .colab-df-container {\n",
              "      display:flex;\n",
              "      flex-wrap:wrap;\n",
              "      gap: 12px;\n",
              "    }\n",
              "\n",
              "    .colab-df-convert {\n",
              "      background-color: #E8F0FE;\n",
              "      border: none;\n",
              "      border-radius: 50%;\n",
              "      cursor: pointer;\n",
              "      display: none;\n",
              "      fill: #1967D2;\n",
              "      height: 32px;\n",
              "      padding: 0 0 0 0;\n",
              "      width: 32px;\n",
              "    }\n",
              "\n",
              "    .colab-df-convert:hover {\n",
              "      background-color: #E2EBFA;\n",
              "      box-shadow: 0px 1px 2px rgba(60, 64, 67, 0.3), 0px 1px 3px 1px rgba(60, 64, 67, 0.15);\n",
              "      fill: #174EA6;\n",
              "    }\n",
              "\n",
              "    [theme=dark] .colab-df-convert {\n",
              "      background-color: #3B4455;\n",
              "      fill: #D2E3FC;\n",
              "    }\n",
              "\n",
              "    [theme=dark] .colab-df-convert:hover {\n",
              "      background-color: #434B5C;\n",
              "      box-shadow: 0px 1px 3px 1px rgba(0, 0, 0, 0.15);\n",
              "      filter: drop-shadow(0px 1px 2px rgba(0, 0, 0, 0.3));\n",
              "      fill: #FFFFFF;\n",
              "    }\n",
              "  </style>\n",
              "\n",
              "      <script>\n",
              "        const buttonEl =\n",
              "          document.querySelector('#df-c2c73579-9cba-4b12-b871-d201543f5994 button.colab-df-convert');\n",
              "        buttonEl.style.display =\n",
              "          google.colab.kernel.accessAllowed ? 'block' : 'none';\n",
              "\n",
              "        async function convertToInteractive(key) {\n",
              "          const element = document.querySelector('#df-c2c73579-9cba-4b12-b871-d201543f5994');\n",
              "          const dataTable =\n",
              "            await google.colab.kernel.invokeFunction('convertToInteractive',\n",
              "                                                     [key], {});\n",
              "          if (!dataTable) return;\n",
              "\n",
              "          const docLinkHtml = 'Like what you see? Visit the ' +\n",
              "            '<a target=\"_blank\" href=https://colab.research.google.com/notebooks/data_table.ipynb>data table notebook</a>'\n",
              "            + ' to learn more about interactive tables.';\n",
              "          element.innerHTML = '';\n",
              "          dataTable['output_type'] = 'display_data';\n",
              "          await google.colab.output.renderOutput(dataTable, element);\n",
              "          const docLink = document.createElement('div');\n",
              "          docLink.innerHTML = docLinkHtml;\n",
              "          element.appendChild(docLink);\n",
              "        }\n",
              "      </script>\n",
              "    </div>\n",
              "  </div>\n",
              "  "
            ]
          },
          "metadata": {},
          "execution_count": 34
        }
      ]
    },
    {
      "cell_type": "code",
      "source": [
        "data.shape"
      ],
      "metadata": {
        "colab": {
          "base_uri": "https://localhost:8080/"
        },
        "id": "tlG6EwJyNDxU",
        "outputId": "c1653c14-ee77-471c-d7e6-ade7ce52c87f"
      },
      "execution_count": 35,
      "outputs": [
        {
          "output_type": "execute_result",
          "data": {
            "text/plain": [
              "(5562, 10)"
            ]
          },
          "metadata": {},
          "execution_count": 35
        }
      ]
    },
    {
      "cell_type": "code",
      "source": [
        "print(\"Number of Rows\",data.shape[0])\n",
        "print(\"Number of columns\",data.shape[1])"
      ],
      "metadata": {
        "colab": {
          "base_uri": "https://localhost:8080/"
        },
        "id": "LGFUYQJGNP1O",
        "outputId": "15bd28a2-4923-4027-fee5-fa1a367da3bc"
      },
      "execution_count": 36,
      "outputs": [
        {
          "output_type": "stream",
          "name": "stdout",
          "text": [
            "Number of Rows 5562\n",
            "Number of columns 10\n"
          ]
        }
      ]
    },
    {
      "cell_type": "code",
      "source": [
        "data.info()"
      ],
      "metadata": {
        "colab": {
          "base_uri": "https://localhost:8080/"
        },
        "id": "qJIjiRzENg8t",
        "outputId": "eccac27c-90fc-45ba-8835-7d61bf5e982a"
      },
      "execution_count": 37,
      "outputs": [
        {
          "output_type": "stream",
          "name": "stdout",
          "text": [
            "<class 'pandas.core.frame.DataFrame'>\n",
            "RangeIndex: 5562 entries, 0 to 5561\n",
            "Data columns (total 10 columns):\n",
            " #   Column         Non-Null Count  Dtype  \n",
            "---  ------         --------------  -----  \n",
            " 0   Movie_Title    5562 non-null   object \n",
            " 1   Year           5562 non-null   int64  \n",
            " 2   Director       5562 non-null   object \n",
            " 3   Actors         5562 non-null   object \n",
            " 4   Rating         5562 non-null   float64\n",
            " 5   Runtime(Mins)  5562 non-null   int64  \n",
            " 6   Censor         5562 non-null   object \n",
            " 7   Total_Gross    5562 non-null   object \n",
            " 8   main_genre     5562 non-null   object \n",
            " 9   side_genre     5562 non-null   object \n",
            "dtypes: float64(1), int64(2), object(7)\n",
            "memory usage: 434.7+ KB\n"
          ]
        }
      ]
    },
    {
      "cell_type": "code",
      "source": [
        "print(\"Any missing value?\",data.isnull().values.any())"
      ],
      "metadata": {
        "colab": {
          "base_uri": "https://localhost:8080/"
        },
        "id": "77Q3HqmMNkMT",
        "outputId": "a6a3ceb0-ba08-410b-96d8-196001c4403a"
      },
      "execution_count": 38,
      "outputs": [
        {
          "output_type": "stream",
          "name": "stdout",
          "text": [
            "Any missing value? False\n"
          ]
        }
      ]
    },
    {
      "cell_type": "code",
      "source": [
        "data.isnull().sum()"
      ],
      "metadata": {
        "colab": {
          "base_uri": "https://localhost:8080/"
        },
        "id": "DCIyH3VXOKXb",
        "outputId": "6a8137de-0379-43c9-a9f4-70f2931c9d8e"
      },
      "execution_count": 39,
      "outputs": [
        {
          "output_type": "execute_result",
          "data": {
            "text/plain": [
              "Movie_Title      0\n",
              "Year             0\n",
              "Director         0\n",
              "Actors           0\n",
              "Rating           0\n",
              "Runtime(Mins)    0\n",
              "Censor           0\n",
              "Total_Gross      0\n",
              "main_genre       0\n",
              "side_genre       0\n",
              "dtype: int64"
            ]
          },
          "metadata": {},
          "execution_count": 39
        }
      ]
    },
    {
      "cell_type": "code",
      "source": [
        "sns.heatmap(data.isnull())"
      ],
      "metadata": {
        "colab": {
          "base_uri": "https://localhost:8080/",
          "height": 351
        },
        "id": "3sd6Y08EOTBY",
        "outputId": "c1044422-1e16-4d0c-e83d-31eddc1cf1d7"
      },
      "execution_count": 40,
      "outputs": [
        {
          "output_type": "execute_result",
          "data": {
            "text/plain": [
              "<Axes: >"
            ]
          },
          "metadata": {},
          "execution_count": 40
        },
        {
          "output_type": "display_data",
          "data": {
            "text/plain": [
              "<Figure size 432x288 with 2 Axes>"
            ],
            "image/png": "[encoded data removed]"
          },
          "metadata": {
            "needs_background": "light"
          }
        }
      ]
    },
    {
      "cell_type": "code",
      "source": [
        "dup=data.duplicated().any()\n",
        "dup"
      ],
      "metadata": {
        "colab": {
          "base_uri": "https://localhost:8080/"
        },
        "id": "6R4wtkktOd2i",
        "outputId": "474e7df7-c85d-469b-80f0-472c18c99339"
      },
      "execution_count": 41,
      "outputs": [
        {
          "output_type": "execute_result",
          "data": {
            "text/plain": [
              "True"
            ]
          },
          "metadata": {},
          "execution_count": 41
        }
      ]
    },
    {
      "cell_type": "code",
      "source": [
        "data=data.drop_duplicates()\n",
        "data"
      ],
      "metadata": {
        "colab": {
          "base_uri": "https://localhost:8080/",
          "height": 797
        },
        "id": "sY6SuLtGOsT8",
        "outputId": "b11c9f51-9431-48f2-e112-3b15d0655918"
      },
      "execution_count": 42,
      "outputs": [
        {
          "output_type": "execute_result",
          "data": {
            "text/plain": [
              "                                        Movie_Title  Year  \\\n",
              "0                                           Kantara  2022   \n",
              "1                                   The Dark Knight  2008   \n",
              "2     The Lord of the Rings: The Return of the King  2003   \n",
              "3                                         Inception  2010   \n",
              "4             The Lord of the Rings: The Two Towers  2002   \n",
              "...                                             ...   ...   \n",
              "5557                                 Disaster Movie  2008   \n",
              "5558                        The Hottie & the Nottie  2008   \n",
              "5559                           From Justin to Kelly  2003   \n",
              "5560                   Superbabies: Baby Geniuses 2  2004   \n",
              "5561                 Cumali Ceber: Allah Seni Alsin  2017   \n",
              "\n",
              "                                      Director  \\\n",
              "0                                Rishab Shetty   \n",
              "1                            Christopher Nolan   \n",
              "2                                Peter Jackson   \n",
              "3                            Christopher Nolan   \n",
              "4                                Peter Jackson   \n",
              "...                                        ...   \n",
              "5557  Directors:Jason Friedberg, Aaron Seltzer   \n",
              "5558                                Tom Putnam   \n",
              "5559                             Robert Iscove   \n",
              "5560                                 Bob Clark   \n",
              "5561                                Gökhan Gök   \n",
              "\n",
              "                                                 Actors  Rating  \\\n",
              "0     Rishab Shetty, Sapthami Gowda, Kishore Kumar G...     9.3   \n",
              "1     Christian Bale, Heath Ledger, Aaron Eckhart, M...     9.0   \n",
              "2     Elijah Wood, Viggo Mortensen, Ian McKellen, Or...     9.0   \n",
              "3     Leonardo DiCaprio, Joseph Gordon-Levitt, Ellio...     8.8   \n",
              "4     Elijah Wood, Ian McKellen, Viggo Mortensen, Or...     8.8   \n",
              "...                                                 ...     ...   \n",
              "5557  Carmen Electra, Vanessa Lachey, Nicole Parker,...     1.9   \n",
              "5558  Paris Hilton, Joel David Moore, Christine Laki...     1.9   \n",
              "5559  Kelly Clarkson, Justin Guarini, Katherine Bail...     1.9   \n",
              "5560  Jon Voight, Scott Baio, Vanessa Angel, Skyler ...     1.5   \n",
              "5561  Halil Söyletmez, Doga Konakoglu, Emre Keskin, ...     1.0   \n",
              "\n",
              "      Runtime(Mins)     Censor   Total_Gross main_genre           side_genre  \n",
              "0               148         UA  Gross Unkown     Action    Adventure,  Drama  \n",
              "1               152         UA      $534.86M     Action        Crime,  Drama  \n",
              "2               201          U      $377.85M     Action    Adventure,  Drama  \n",
              "3               148         UA      $292.58M     Action   Adventure,  Sci-Fi  \n",
              "4               179         UA      $342.55M     Action    Adventure,  Drama  \n",
              "...             ...        ...           ...        ...                  ...  \n",
              "5557             87      PG-13       $14.19M     Comedy               Sci-Fi  \n",
              "5558             91      PG-13        $0.03M     Comedy              Romance  \n",
              "5559             81         PG        $4.92M     Comedy    Musical,  Romance  \n",
              "5560             88         PG        $9.11M     Comedy      Family,  Sci-Fi  \n",
              "5561            100  Not Rated  Gross Unkown     Comedy               Comedy  \n",
              "\n",
              "[5554 rows x 10 columns]"
            ],
            "text/html": [
              "\n",
              "  <div id=\"df-a7cb24ea-0b43-480e-be7a-0cee3323c8fb\">\n",
              "    <div class=\"colab-df-container\">\n",
              "      <div>\n",
              "<style scoped>\n",
              "    .dataframe tbody tr th:only-of-type {\n",
              "        vertical-align: middle;\n",
              "    }\n",
              "\n",
              "    .dataframe tbody tr th {\n",
              "        vertical-align: top;\n",
              "    }\n",
              "\n",
              "    .dataframe thead th {\n",
              "        text-align: right;\n",
              "    }\n",
              "</style>\n",
              "<table border=\"1\" class=\"dataframe\">\n",
              "  <thead>\n",
              "    <tr style=\"text-align: right;\">\n",
              "      <th></th>\n",
              "      <th>Movie_Title</th>\n",
              "      <th>Year</th>\n",
              "      <th>Director</th>\n",
              "      <th>Actors</th>\n",
              "      <th>Rating</th>\n",
              "      <th>Runtime(Mins)</th>\n",
              "      <th>Censor</th>\n",
              "      <th>Total_Gross</th>\n",
              "      <th>main_genre</th>\n",
              "      <th>side_genre</th>\n",
              "    </tr>\n",
              "  </thead>\n",
              "  <tbody>\n",
              "    <tr>\n",
              "      <th>0</th>\n",
              "      <td>Kantara</td>\n",
              "      <td>2022</td>\n",
              "      <td>Rishab Shetty</td>\n",
              "      <td>Rishab Shetty, Sapthami Gowda, Kishore Kumar G...</td>\n",
              "      <td>9.3</td>\n",
              "      <td>148</td>\n",
              "      <td>UA</td>\n",
              "      <td>Gross Unkown</td>\n",
              "      <td>Action</td>\n",
              "      <td>Adventure,  Drama</td>\n",
              "    </tr>\n",
              "    <tr>\n",
              "      <th>1</th>\n",
              "      <td>The Dark Knight</td>\n",
              "      <td>2008</td>\n",
              "      <td>Christopher Nolan</td>\n",
              "      <td>Christian Bale, Heath Ledger, Aaron Eckhart, M...</td>\n",
              "      <td>9.0</td>\n",
              "      <td>152</td>\n",
              "      <td>UA</td>\n",
              "      <td>$534.86M</td>\n",
              "      <td>Action</td>\n",
              "      <td>Crime,  Drama</td>\n",
              "    </tr>\n",
              "    <tr>\n",
              "      <th>2</th>\n",
              "      <td>The Lord of the Rings: The Return of the King</td>\n",
              "      <td>2003</td>\n",
              "      <td>Peter Jackson</td>\n",
              "      <td>Elijah Wood, Viggo Mortensen, Ian McKellen, Or...</td>\n",
              "      <td>9.0</td>\n",
              "      <td>201</td>\n",
              "      <td>U</td>\n",
              "      <td>$377.85M</td>\n",
              "      <td>Action</td>\n",
              "      <td>Adventure,  Drama</td>\n",
              "    </tr>\n",
              "    <tr>\n",
              "      <th>3</th>\n",
              "      <td>Inception</td>\n",
              "      <td>2010</td>\n",
              "      <td>Christopher Nolan</td>\n",
              "      <td>Leonardo DiCaprio, Joseph Gordon-Levitt, Ellio...</td>\n",
              "      <td>8.8</td>\n",
              "      <td>148</td>\n",
              "      <td>UA</td>\n",
              "      <td>$292.58M</td>\n",
              "      <td>Action</td>\n",
              "      <td>Adventure,  Sci-Fi</td>\n",
              "    </tr>\n",
              "    <tr>\n",
              "      <th>4</th>\n",
              "      <td>The Lord of the Rings: The Two Towers</td>\n",
              "      <td>2002</td>\n",
              "      <td>Peter Jackson</td>\n",
              "      <td>Elijah Wood, Ian McKellen, Viggo Mortensen, Or...</td>\n",
              "      <td>8.8</td>\n",
              "      <td>179</td>\n",
              "      <td>UA</td>\n",
              "      <td>$342.55M</td>\n",
              "      <td>Action</td>\n",
              "      <td>Adventure,  Drama</td>\n",
              "    </tr>\n",
              "    <tr>\n",
              "      <th>...</th>\n",
              "      <td>...</td>\n",
              "      <td>...</td>\n",
              "      <td>...</td>\n",
              "      <td>...</td>\n",
              "      <td>...</td>\n",
              "      <td>...</td>\n",
              "      <td>...</td>\n",
              "      <td>...</td>\n",
              "      <td>...</td>\n",
              "      <td>...</td>\n",
              "    </tr>\n",
              "    <tr>\n",
              "      <th>5557</th>\n",
              "      <td>Disaster Movie</td>\n",
              "      <td>2008</td>\n",
              "      <td>Directors:Jason Friedberg, Aaron Seltzer</td>\n",
              "      <td>Carmen Electra, Vanessa Lachey, Nicole Parker,...</td>\n",
              "      <td>1.9</td>\n",
              "      <td>87</td>\n",
              "      <td>PG-13</td>\n",
              "      <td>$14.19M</td>\n",
              "      <td>Comedy</td>\n",
              "      <td>Sci-Fi</td>\n",
              "    </tr>\n",
              "    <tr>\n",
              "      <th>5558</th>\n",
              "      <td>The Hottie &amp; the Nottie</td>\n",
              "      <td>2008</td>\n",
              "      <td>Tom Putnam</td>\n",
              "      <td>Paris Hilton, Joel David Moore, Christine Laki...</td>\n",
              "      <td>1.9</td>\n",
              "      <td>91</td>\n",
              "      <td>PG-13</td>\n",
              "      <td>$0.03M</td>\n",
              "      <td>Comedy</td>\n",
              "      <td>Romance</td>\n",
              "    </tr>\n",
              "    <tr>\n",
              "      <th>5559</th>\n",
              "      <td>From Justin to Kelly</td>\n",
              "      <td>2003</td>\n",
              "      <td>Robert Iscove</td>\n",
              "      <td>Kelly Clarkson, Justin Guarini, Katherine Bail...</td>\n",
              "      <td>1.9</td>\n",
              "      <td>81</td>\n",
              "      <td>PG</td>\n",
              "      <td>$4.92M</td>\n",
              "      <td>Comedy</td>\n",
              "      <td>Musical,  Romance</td>\n",
              "    </tr>\n",
              "    <tr>\n",
              "      <th>5560</th>\n",
              "      <td>Superbabies: Baby Geniuses 2</td>\n",
              "      <td>2004</td>\n",
              "      <td>Bob Clark</td>\n",
              "      <td>Jon Voight, Scott Baio, Vanessa Angel, Skyler ...</td>\n",
              "      <td>1.5</td>\n",
              "      <td>88</td>\n",
              "      <td>PG</td>\n",
              "      <td>$9.11M</td>\n",
              "      <td>Comedy</td>\n",
              "      <td>Family,  Sci-Fi</td>\n",
              "    </tr>\n",
              "    <tr>\n",
              "      <th>5561</th>\n",
              "      <td>Cumali Ceber: Allah Seni Alsin</td>\n",
              "      <td>2017</td>\n",
              "      <td>Gökhan Gök</td>\n",
              "      <td>Halil Söyletmez, Doga Konakoglu, Emre Keskin, ...</td>\n",
              "      <td>1.0</td>\n",
              "      <td>100</td>\n",
              "      <td>Not Rated</td>\n",
              "      <td>Gross Unkown</td>\n",
              "      <td>Comedy</td>\n",
              "      <td>Comedy</td>\n",
              "    </tr>\n",
              "  </tbody>\n",
              "</table>\n",
              "<p>5554 rows × 10 columns</p>\n",
              "</div>\n",
              "      <button class=\"colab-df-convert\" onclick=\"convertToInteractive('df-a7cb24ea-0b43-480e-be7a-0cee3323c8fb')\"\n",
              "              title=\"Convert this dataframe to an interactive table.\"\n",
              "              style=\"display:none;\">\n",
              "        \n",
              "  <svg xmlns=\"http://www.w3.org/2000/svg\" height=\"24px\"viewBox=\"0 0 24 24\"\n",
              "       width=\"24px\">\n",
              "    <path d=\"M0 0h24v24H0V0z\" fill=\"none\"/>\n",
              "    <path d=\"M18.56 5.44l.94 2.06.94-2.06 2.06-.94-2.06-.94-.94-2.06-.94 2.06-2.06.94zm-11 1L8.5 8.5l.94-2.06 2.06-.94-2.06-.94L8.5 2.5l-.94 2.06-2.06.94zm10 10l.94 2.06.94-2.06 2.06-.94-2.06-.94-.94-2.06-.94 2.06-2.06.94z\"/><path d=\"M17.41 7.96l-1.37-1.37c-.4-.4-.92-.59-1.43-.59-.52 0-1.04.2-1.43.59L10.3 9.45l-7.72 7.72c-.78.78-.78 2.05 0 2.83L4 21.41c.39.39.9.59 1.41.59.51 0 1.02-.2 1.41-.59l7.78-7.78 2.81-2.81c.8-.78.8-2.07 0-2.86zM5.41 20L4 18.59l7.72-7.72 1.47 1.35L5.41 20z\"/>\n",
              "  </svg>\n",
              "      </button>\n",
              "      \n",
              "  <style>\n",
              "    .colab-df-container {\n",
              "      display:flex;\n",
              "      flex-wrap:wrap;\n",
              "      gap: 12px;\n",
              "    }\n",
              "\n",
              "    .colab-df-convert {\n",
              "      background-color: #E8F0FE;\n",
              "      border: none;\n",
              "      border-radius: 50%;\n",
              "      cursor: pointer;\n",
              "      display: none;\n",
              "      fill: #1967D2;\n",
              "      height: 32px;\n",
              "      padding: 0 0 0 0;\n",
              "      width: 32px;\n",
              "    }\n",
              "\n",
              "    .colab-df-convert:hover {\n",
              "      background-color: #E2EBFA;\n",
              "      box-shadow: 0px 1px 2px rgba(60, 64, 67, 0.3), 0px 1px 3px 1px rgba(60, 64, 67, 0.15);\n",
              "      fill: #174EA6;\n",
              "    }\n",
              "\n",
              "    [theme=dark] .colab-df-convert {\n",
              "      background-color: #3B4455;\n",
              "      fill: #D2E3FC;\n",
              "    }\n",
              "\n",
              "    [theme=dark] .colab-df-convert:hover {\n",
              "      background-color: #434B5C;\n",
              "      box-shadow: 0px 1px 3px 1px rgba(0, 0, 0, 0.15);\n",
              "      filter: drop-shadow(0px 1px 2px rgba(0, 0, 0, 0.3));\n",
              "      fill: #FFFFFF;\n",
              "    }\n",
              "  </style>\n",
              "\n",
              "      <script>\n",
              "        const buttonEl =\n",
              "          document.querySelector('#df-a7cb24ea-0b43-480e-be7a-0cee3323c8fb button.colab-df-convert');\n",
              "        buttonEl.style.display =\n",
              "          google.colab.kernel.accessAllowed ? 'block' : 'none';\n",
              "\n",
              "        async function convertToInteractive(key) {\n",
              "          const element = document.querySelector('#df-a7cb24ea-0b43-480e-be7a-0cee3323c8fb');\n",
              "          const dataTable =\n",
              "            await google.colab.kernel.invokeFunction('convertToInteractive',\n",
              "                                                     [key], {});\n",
              "          if (!dataTable) return;\n",
              "\n",
              "          const docLinkHtml = 'Like what you see? Visit the ' +\n",
              "            '<a target=\"_blank\" href=https://colab.research.google.com/notebooks/data_table.ipynb>data table notebook</a>'\n",
              "            + ' to learn more about interactive tables.';\n",
              "          element.innerHTML = '';\n",
              "          dataTable['output_type'] = 'display_data';\n",
              "          await google.colab.output.renderOutput(dataTable, element);\n",
              "          const docLink = document.createElement('div');\n",
              "          docLink.innerHTML = docLinkHtml;\n",
              "          element.appendChild(docLink);\n",
              "        }\n",
              "      </script>\n",
              "    </div>\n",
              "  </div>\n",
              "  "
            ]
          },
          "metadata": {},
          "execution_count": 42
        }
      ]
    },
    {
      "cell_type": "code",
      "source": [
        "data.describe()"
      ],
      "metadata": {
        "colab": {
          "base_uri": "https://localhost:8080/",
          "height": 300
        },
        "id": "HHs2alpNO-6Q",
        "outputId": "0532c798-4709-4202-f345-0ce3b96f289c"
      },
      "execution_count": 43,
      "outputs": [
        {
          "output_type": "execute_result",
          "data": {
            "text/plain": [
              "              Year       Rating  Runtime(Mins)\n",
              "count  5554.000000  5554.000000    5554.000000\n",
              "mean   2002.777818     6.755978     112.235506\n",
              "std      16.150962     0.937521      21.623508\n",
              "min    1920.000000     1.000000      45.000000\n",
              "25%    1997.000000     6.200000      97.000000\n",
              "50%    2007.000000     6.800000     108.000000\n",
              "75%    2014.000000     7.400000     123.000000\n",
              "max    2022.000000     9.300000     321.000000"
            ],
            "text/html": [
              "\n",
              "  <div id=\"df-4a5b3772-e8b8-4644-ba34-f1d6e12730c9\">\n",
              "    <div class=\"colab-df-container\">\n",
              "      <div>\n",
              "<style scoped>\n",
              "    .dataframe tbody tr th:only-of-type {\n",
              "        vertical-align: middle;\n",
              "    }\n",
              "\n",
              "    .dataframe tbody tr th {\n",
              "        vertical-align: top;\n",
              "    }\n",
              "\n",
              "    .dataframe thead th {\n",
              "        text-align: right;\n",
              "    }\n",
              "</style>\n",
              "<table border=\"1\" class=\"dataframe\">\n",
              "  <thead>\n",
              "    <tr style=\"text-align: right;\">\n",
              "      <th></th>\n",
              "      <th>Year</th>\n",
              "      <th>Rating</th>\n",
              "      <th>Runtime(Mins)</th>\n",
              "    </tr>\n",
              "  </thead>\n",
              "  <tbody>\n",
              "    <tr>\n",
              "      <th>count</th>\n",
              "      <td>5554.000000</td>\n",
              "      <td>5554.000000</td>\n",
              "      <td>5554.000000</td>\n",
              "    </tr>\n",
              "    <tr>\n",
              "      <th>mean</th>\n",
              "      <td>2002.777818</td>\n",
              "      <td>6.755978</td>\n",
              "      <td>112.235506</td>\n",
              "    </tr>\n",
              "    <tr>\n",
              "      <th>std</th>\n",
              "      <td>16.150962</td>\n",
              "      <td>0.937521</td>\n",
              "      <td>21.623508</td>\n",
              "    </tr>\n",
              "    <tr>\n",
              "      <th>min</th>\n",
              "      <td>1920.000000</td>\n",
              "      <td>1.000000</td>\n",
              "      <td>45.000000</td>\n",
              "    </tr>\n",
              "    <tr>\n",
              "      <th>25%</th>\n",
              "      <td>1997.000000</td>\n",
              "      <td>6.200000</td>\n",
              "      <td>97.000000</td>\n",
              "    </tr>\n",
              "    <tr>\n",
              "      <th>50%</th>\n",
              "      <td>2007.000000</td>\n",
              "      <td>6.800000</td>\n",
              "      <td>108.000000</td>\n",
              "    </tr>\n",
              "    <tr>\n",
              "      <th>75%</th>\n",
              "      <td>2014.000000</td>\n",
              "      <td>7.400000</td>\n",
              "      <td>123.000000</td>\n",
              "    </tr>\n",
              "    <tr>\n",
              "      <th>max</th>\n",
              "      <td>2022.000000</td>\n",
              "      <td>9.300000</td>\n",
              "      <td>321.000000</td>\n",
              "    </tr>\n",
              "  </tbody>\n",
              "</table>\n",
              "</div>\n",
              "      <button class=\"colab-df-convert\" onclick=\"convertToInteractive('df-4a5b3772-e8b8-4644-ba34-f1d6e12730c9')\"\n",
              "              title=\"Convert this dataframe to an interactive table.\"\n",
              "              style=\"display:none;\">\n",
              "        \n",
              "  <svg xmlns=\"http://www.w3.org/2000/svg\" height=\"24px\"viewBox=\"0 0 24 24\"\n",
              "       width=\"24px\">\n",
              "    <path d=\"M0 0h24v24H0V0z\" fill=\"none\"/>\n",
              "    <path d=\"M18.56 5.44l.94 2.06.94-2.06 2.06-.94-2.06-.94-.94-2.06-.94 2.06-2.06.94zm-11 1L8.5 8.5l.94-2.06 2.06-.94-2.06-.94L8.5 2.5l-.94 2.06-2.06.94zm10 10l.94 2.06.94-2.06 2.06-.94-2.06-.94-.94-2.06-.94 2.06-2.06.94z\"/><path d=\"M17.41 7.96l-1.37-1.37c-.4-.4-.92-.59-1.43-.59-.52 0-1.04.2-1.43.59L10.3 9.45l-7.72 7.72c-.78.78-.78 2.05 0 2.83L4 21.41c.39.39.9.59 1.41.59.51 0 1.02-.2 1.41-.59l7.78-7.78 2.81-2.81c.8-.78.8-2.07 0-2.86zM5.41 20L4 18.59l7.72-7.72 1.47 1.35L5.41 20z\"/>\n",
              "  </svg>\n",
              "      </button>\n",
              "      \n",
              "  <style>\n",
              "    .colab-df-container {\n",
              "      display:flex;\n",
              "      flex-wrap:wrap;\n",
              "      gap: 12px;\n",
              "    }\n",
              "\n",
              "    .colab-df-convert {\n",
              "      background-color: #E8F0FE;\n",
              "      border: none;\n",
              "      border-radius: 50%;\n",
              "      cursor: pointer;\n",
              "      display: none;\n",
              "      fill: #1967D2;\n",
              "      height: 32px;\n",
              "      padding: 0 0 0 0;\n",
              "      width: 32px;\n",
              "    }\n",
              "\n",
              "    .colab-df-convert:hover {\n",
              "      background-color: #E2EBFA;\n",
              "      box-shadow: 0px 1px 2px rgba(60, 64, 67, 0.3), 0px 1px 3px 1px rgba(60, 64, 67, 0.15);\n",
              "      fill: #174EA6;\n",
              "    }\n",
              "\n",
              "    [theme=dark] .colab-df-convert {\n",
              "      background-color: #3B4455;\n",
              "      fill: #D2E3FC;\n",
              "    }\n",
              "\n",
              "    [theme=dark] .colab-df-convert:hover {\n",
              "      background-color: #434B5C;\n",
              "      box-shadow: 0px 1px 3px 1px rgba(0, 0, 0, 0.15);\n",
              "      filter: drop-shadow(0px 1px 2px rgba(0, 0, 0, 0.3));\n",
              "      fill: #FFFFFF;\n",
              "    }\n",
              "  </style>\n",
              "\n",
              "      <script>\n",
              "        const buttonEl =\n",
              "          document.querySelector('#df-4a5b3772-e8b8-4644-ba34-f1d6e12730c9 button.colab-df-convert');\n",
              "        buttonEl.style.display =\n",
              "          google.colab.kernel.accessAllowed ? 'block' : 'none';\n",
              "\n",
              "        async function convertToInteractive(key) {\n",
              "          const element = document.querySelector('#df-4a5b3772-e8b8-4644-ba34-f1d6e12730c9');\n",
              "          const dataTable =\n",
              "            await google.colab.kernel.invokeFunction('convertToInteractive',\n",
              "                                                     [key], {});\n",
              "          if (!dataTable) return;\n",
              "\n",
              "          const docLinkHtml = 'Like what you see? Visit the ' +\n",
              "            '<a target=\"_blank\" href=https://colab.research.google.com/notebooks/data_table.ipynb>data table notebook</a>'\n",
              "            + ' to learn more about interactive tables.';\n",
              "          element.innerHTML = '';\n",
              "          dataTable['output_type'] = 'display_data';\n",
              "          await google.colab.output.renderOutput(dataTable, element);\n",
              "          const docLink = document.createElement('div');\n",
              "          docLink.innerHTML = docLinkHtml;\n",
              "          element.appendChild(docLink);\n",
              "        }\n",
              "      </script>\n",
              "    </div>\n",
              "  </div>\n",
              "  "
            ]
          },
          "metadata": {},
          "execution_count": 43
        }
      ]
    },
    {
      "cell_type": "code",
      "source": [
        "data.columns"
      ],
      "metadata": {
        "colab": {
          "base_uri": "https://localhost:8080/"
        },
        "id": "oQw-mOPEPEXQ",
        "outputId": "dfc9dc13-cb1f-42d5-c44c-e17b94affa13"
      },
      "execution_count": 44,
      "outputs": [
        {
          "output_type": "execute_result",
          "data": {
            "text/plain": [
              "Index(['Movie_Title', 'Year', 'Director', 'Actors', 'Rating', 'Runtime(Mins)',\n",
              "       'Censor', 'Total_Gross', 'main_genre', 'side_genre'],\n",
              "      dtype='object')"
            ]
          },
          "metadata": {},
          "execution_count": 44
        }
      ]
    },
    {
      "cell_type": "code",
      "source": [
        "data.drop(columns =['side_genre'])"
      ],
      "metadata": {
        "colab": {
          "base_uri": "https://localhost:8080/",
          "height": 658
        },
        "id": "K-BcP-xWQqsr",
        "outputId": "ab9d78e9-5586-4363-87b8-a6de217a63f6"
      },
      "execution_count": 45,
      "outputs": [
        {
          "output_type": "execute_result",
          "data": {
            "text/plain": [
              "                                        Movie_Title  Year  \\\n",
              "0                                           Kantara  2022   \n",
              "1                                   The Dark Knight  2008   \n",
              "2     The Lord of the Rings: The Return of the King  2003   \n",
              "3                                         Inception  2010   \n",
              "4             The Lord of the Rings: The Two Towers  2002   \n",
              "...                                             ...   ...   \n",
              "5557                                 Disaster Movie  2008   \n",
              "5558                        The Hottie & the Nottie  2008   \n",
              "5559                           From Justin to Kelly  2003   \n",
              "5560                   Superbabies: Baby Geniuses 2  2004   \n",
              "5561                 Cumali Ceber: Allah Seni Alsin  2017   \n",
              "\n",
              "                                      Director  \\\n",
              "0                                Rishab Shetty   \n",
              "1                            Christopher Nolan   \n",
              "2                                Peter Jackson   \n",
              "3                            Christopher Nolan   \n",
              "4                                Peter Jackson   \n",
              "...                                        ...   \n",
              "5557  Directors:Jason Friedberg, Aaron Seltzer   \n",
              "5558                                Tom Putnam   \n",
              "5559                             Robert Iscove   \n",
              "5560                                 Bob Clark   \n",
              "5561                                Gökhan Gök   \n",
              "\n",
              "                                                 Actors  Rating  \\\n",
              "0     Rishab Shetty, Sapthami Gowda, Kishore Kumar G...     9.3   \n",
              "1     Christian Bale, Heath Ledger, Aaron Eckhart, M...     9.0   \n",
              "2     Elijah Wood, Viggo Mortensen, Ian McKellen, Or...     9.0   \n",
              "3     Leonardo DiCaprio, Joseph Gordon-Levitt, Ellio...     8.8   \n",
              "4     Elijah Wood, Ian McKellen, Viggo Mortensen, Or...     8.8   \n",
              "...                                                 ...     ...   \n",
              "5557  Carmen Electra, Vanessa Lachey, Nicole Parker,...     1.9   \n",
              "5558  Paris Hilton, Joel David Moore, Christine Laki...     1.9   \n",
              "5559  Kelly Clarkson, Justin Guarini, Katherine Bail...     1.9   \n",
              "5560  Jon Voight, Scott Baio, Vanessa Angel, Skyler ...     1.5   \n",
              "5561  Halil Söyletmez, Doga Konakoglu, Emre Keskin, ...     1.0   \n",
              "\n",
              "      Runtime(Mins)     Censor   Total_Gross main_genre  \n",
              "0               148         UA  Gross Unkown     Action  \n",
              "1               152         UA      $534.86M     Action  \n",
              "2               201          U      $377.85M     Action  \n",
              "3               148         UA      $292.58M     Action  \n",
              "4               179         UA      $342.55M     Action  \n",
              "...             ...        ...           ...        ...  \n",
              "5557             87      PG-13       $14.19M     Comedy  \n",
              "5558             91      PG-13        $0.03M     Comedy  \n",
              "5559             81         PG        $4.92M     Comedy  \n",
              "5560             88         PG        $9.11M     Comedy  \n",
              "5561            100  Not Rated  Gross Unkown     Comedy  \n",
              "\n",
              "[5554 rows x 9 columns]"
            ],
            "text/html": [
              "\n",
              "  <div id=\"df-53c2980a-256a-4c65-8f32-bb33755a1421\">\n",
              "    <div class=\"colab-df-container\">\n",
              "      <div>\n",
              "<style scoped>\n",
              "    .dataframe tbody tr th:only-of-type {\n",
              "        vertical-align: middle;\n",
              "    }\n",
              "\n",
              "    .dataframe tbody tr th {\n",
              "        vertical-align: top;\n",
              "    }\n",
              "\n",
              "    .dataframe thead th {\n",
              "        text-align: right;\n",
              "    }\n",
              "</style>\n",
              "<table border=\"1\" class=\"dataframe\">\n",
              "  <thead>\n",
              "    <tr style=\"text-align: right;\">\n",
              "      <th></th>\n",
              "      <th>Movie_Title</th>\n",
              "      <th>Year</th>\n",
              "      <th>Director</th>\n",
              "      <th>Actors</th>\n",
              "      <th>Rating</th>\n",
              "      <th>Runtime(Mins)</th>\n",
              "      <th>Censor</th>\n",
              "      <th>Total_Gross</th>\n",
              "      <th>main_genre</th>\n",
              "    </tr>\n",
              "  </thead>\n",
              "  <tbody>\n",
              "    <tr>\n",
              "      <th>0</th>\n",
              "      <td>Kantara</td>\n",
              "      <td>2022</td>\n",
              "      <td>Rishab Shetty</td>\n",
              "      <td>Rishab Shetty, Sapthami Gowda, Kishore Kumar G...</td>\n",
              "      <td>9.3</td>\n",
              "      <td>148</td>\n",
              "      <td>UA</td>\n",
              "      <td>Gross Unkown</td>\n",
              "      <td>Action</td>\n",
              "    </tr>\n",
              "    <tr>\n",
              "      <th>1</th>\n",
              "      <td>The Dark Knight</td>\n",
              "      <td>2008</td>\n",
              "      <td>Christopher Nolan</td>\n",
              "      <td>Christian Bale, Heath Ledger, Aaron Eckhart, M...</td>\n",
              "      <td>9.0</td>\n",
              "      <td>152</td>\n",
              "      <td>UA</td>\n",
              "      <td>$534.86M</td>\n",
              "      <td>Action</td>\n",
              "    </tr>\n",
              "    <tr>\n",
              "      <th>2</th>\n",
              "      <td>The Lord of the Rings: The Return of the King</td>\n",
              "      <td>2003</td>\n",
              "      <td>Peter Jackson</td>\n",
              "      <td>Elijah Wood, Viggo Mortensen, Ian McKellen, Or...</td>\n",
              "      <td>9.0</td>\n",
              "      <td>201</td>\n",
              "      <td>U</td>\n",
              "      <td>$377.85M</td>\n",
              "      <td>Action</td>\n",
              "    </tr>\n",
              "    <tr>\n",
              "      <th>3</th>\n",
              "      <td>Inception</td>\n",
              "      <td>2010</td>\n",
              "      <td>Christopher Nolan</td>\n",
              "      <td>Leonardo DiCaprio, Joseph Gordon-Levitt, Ellio...</td>\n",
              "      <td>8.8</td>\n",
              "      <td>148</td>\n",
              "      <td>UA</td>\n",
              "      <td>$292.58M</td>\n",
              "      <td>Action</td>\n",
              "    </tr>\n",
              "    <tr>\n",
              "      <th>4</th>\n",
              "      <td>The Lord of the Rings: The Two Towers</td>\n",
              "      <td>2002</td>\n",
              "      <td>Peter Jackson</td>\n",
              "      <td>Elijah Wood, Ian McKellen, Viggo Mortensen, Or...</td>\n",
              "      <td>8.8</td>\n",
              "      <td>179</td>\n",
              "      <td>UA</td>\n",
              "      <td>$342.55M</td>\n",
              "      <td>Action</td>\n",
              "    </tr>\n",
              "    <tr>\n",
              "      <th>...</th>\n",
              "      <td>...</td>\n",
              "      <td>...</td>\n",
              "      <td>...</td>\n",
              "      <td>...</td>\n",
              "      <td>...</td>\n",
              "      <td>...</td>\n",
              "      <td>...</td>\n",
              "      <td>...</td>\n",
              "      <td>...</td>\n",
              "    </tr>\n",
              "    <tr>\n",
              "      <th>5557</th>\n",
              "      <td>Disaster Movie</td>\n",
              "      <td>2008</td>\n",
              "      <td>Directors:Jason Friedberg, Aaron Seltzer</td>\n",
              "      <td>Carmen Electra, Vanessa Lachey, Nicole Parker,...</td>\n",
              "      <td>1.9</td>\n",
              "      <td>87</td>\n",
              "      <td>PG-13</td>\n",
              "      <td>$14.19M</td>\n",
              "      <td>Comedy</td>\n",
              "    </tr>\n",
              "    <tr>\n",
              "      <th>5558</th>\n",
              "      <td>The Hottie &amp; the Nottie</td>\n",
              "      <td>2008</td>\n",
              "      <td>Tom Putnam</td>\n",
              "      <td>Paris Hilton, Joel David Moore, Christine Laki...</td>\n",
              "      <td>1.9</td>\n",
              "      <td>91</td>\n",
              "      <td>PG-13</td>\n",
              "      <td>$0.03M</td>\n",
              "      <td>Comedy</td>\n",
              "    </tr>\n",
              "    <tr>\n",
              "      <th>5559</th>\n",
              "      <td>From Justin to Kelly</td>\n",
              "      <td>2003</td>\n",
              "      <td>Robert Iscove</td>\n",
              "      <td>Kelly Clarkson, Justin Guarini, Katherine Bail...</td>\n",
              "      <td>1.9</td>\n",
              "      <td>81</td>\n",
              "      <td>PG</td>\n",
              "      <td>$4.92M</td>\n",
              "      <td>Comedy</td>\n",
              "    </tr>\n",
              "    <tr>\n",
              "      <th>5560</th>\n",
              "      <td>Superbabies: Baby Geniuses 2</td>\n",
              "      <td>2004</td>\n",
              "      <td>Bob Clark</td>\n",
              "      <td>Jon Voight, Scott Baio, Vanessa Angel, Skyler ...</td>\n",
              "      <td>1.5</td>\n",
              "      <td>88</td>\n",
              "      <td>PG</td>\n",
              "      <td>$9.11M</td>\n",
              "      <td>Comedy</td>\n",
              "    </tr>\n",
              "    <tr>\n",
              "      <th>5561</th>\n",
              "      <td>Cumali Ceber: Allah Seni Alsin</td>\n",
              "      <td>2017</td>\n",
              "      <td>Gökhan Gök</td>\n",
              "      <td>Halil Söyletmez, Doga Konakoglu, Emre Keskin, ...</td>\n",
              "      <td>1.0</td>\n",
              "      <td>100</td>\n",
              "      <td>Not Rated</td>\n",
              "      <td>Gross Unkown</td>\n",
              "      <td>Comedy</td>\n",
              "    </tr>\n",
              "  </tbody>\n",
              "</table>\n",
              "<p>5554 rows × 9 columns</p>\n",
              "</div>\n",
              "      <button class=\"colab-df-convert\" onclick=\"convertToInteractive('df-53c2980a-256a-4c65-8f32-bb33755a1421')\"\n",
              "              title=\"Convert this dataframe to an interactive table.\"\n",
              "              style=\"display:none;\">\n",
              "        \n",
              "  <svg xmlns=\"http://www.w3.org/2000/svg\" height=\"24px\"viewBox=\"0 0 24 24\"\n",
              "       width=\"24px\">\n",
              "    <path d=\"M0 0h24v24H0V0z\" fill=\"none\"/>\n",
              "    <path d=\"M18.56 5.44l.94 2.06.94-2.06 2.06-.94-2.06-.94-.94-2.06-.94 2.06-2.06.94zm-11 1L8.5 8.5l.94-2.06 2.06-.94-2.06-.94L8.5 2.5l-.94 2.06-2.06.94zm10 10l.94 2.06.94-2.06 2.06-.94-2.06-.94-.94-2.06-.94 2.06-2.06.94z\"/><path d=\"M17.41 7.96l-1.37-1.37c-.4-.4-.92-.59-1.43-.59-.52 0-1.04.2-1.43.59L10.3 9.45l-7.72 7.72c-.78.78-.78 2.05 0 2.83L4 21.41c.39.39.9.59 1.41.59.51 0 1.02-.2 1.41-.59l7.78-7.78 2.81-2.81c.8-.78.8-2.07 0-2.86zM5.41 20L4 18.59l7.72-7.72 1.47 1.35L5.41 20z\"/>\n",
              "  </svg>\n",
              "      </button>\n",
              "      \n",
              "  <style>\n",
              "    .colab-df-container {\n",
              "      display:flex;\n",
              "      flex-wrap:wrap;\n",
              "      gap: 12px;\n",
              "    }\n",
              "\n",
              "    .colab-df-convert {\n",
              "      background-color: #E8F0FE;\n",
              "      border: none;\n",
              "      border-radius: 50%;\n",
              "      cursor: pointer;\n",
              "      display: none;\n",
              "      fill: #1967D2;\n",
              "      height: 32px;\n",
              "      padding: 0 0 0 0;\n",
              "      width: 32px;\n",
              "    }\n",
              "\n",
              "    .colab-df-convert:hover {\n",
              "      background-color: #E2EBFA;\n",
              "      box-shadow: 0px 1px 2px rgba(60, 64, 67, 0.3), 0px 1px 3px 1px rgba(60, 64, 67, 0.15);\n",
              "      fill: #174EA6;\n",
              "    }\n",
              "\n",
              "    [theme=dark] .colab-df-convert {\n",
              "      background-color: #3B4455;\n",
              "      fill: #D2E3FC;\n",
              "    }\n",
              "\n",
              "    [theme=dark] .colab-df-convert:hover {\n",
              "      background-color: #434B5C;\n",
              "      box-shadow: 0px 1px 3px 1px rgba(0, 0, 0, 0.15);\n",
              "      filter: drop-shadow(0px 1px 2px rgba(0, 0, 0, 0.3));\n",
              "      fill: #FFFFFF;\n",
              "    }\n",
              "  </style>\n",
              "\n",
              "      <script>\n",
              "        const buttonEl =\n",
              "          document.querySelector('#df-53c2980a-256a-4c65-8f32-bb33755a1421 button.colab-df-convert');\n",
              "        buttonEl.style.display =\n",
              "          google.colab.kernel.accessAllowed ? 'block' : 'none';\n",
              "\n",
              "        async function convertToInteractive(key) {\n",
              "          const element = document.querySelector('#df-53c2980a-256a-4c65-8f32-bb33755a1421');\n",
              "          const dataTable =\n",
              "            await google.colab.kernel.invokeFunction('convertToInteractive',\n",
              "                                                     [key], {});\n",
              "          if (!dataTable) return;\n",
              "\n",
              "          const docLinkHtml = 'Like what you see? Visit the ' +\n",
              "            '<a target=\"_blank\" href=https://colab.research.google.com/notebooks/data_table.ipynb>data table notebook</a>'\n",
              "            + ' to learn more about interactive tables.';\n",
              "          element.innerHTML = '';\n",
              "          dataTable['output_type'] = 'display_data';\n",
              "          await google.colab.output.renderOutput(dataTable, element);\n",
              "          const docLink = document.createElement('div');\n",
              "          docLink.innerHTML = docLinkHtml;\n",
              "          element.appendChild(docLink);\n",
              "        }\n",
              "      </script>\n",
              "    </div>\n",
              "  </div>\n",
              "  "
            ]
          },
          "metadata": {},
          "execution_count": 45
        }
      ]
    },
    {
      "cell_type": "code",
      "source": [
        "from sklearn.preprocessing import LabelEncoder\n",
        "\n",
        "encoder = LabelEncoder()\n",
        "labels = encoder.fit_transform(data['main_genre'].values)\n",
        "labels"
      ],
      "metadata": {
        "colab": {
          "base_uri": "https://localhost:8080/"
        },
        "id": "r4WhyyURPVjc",
        "outputId": "bf00a42c-d6df-4606-d852-5cfbf31e934e"
      },
      "execution_count": 46,
      "outputs": [
        {
          "output_type": "execute_result",
          "data": {
            "text/plain": [
              "array([0, 0, 0, ..., 4, 4, 4])"
            ]
          },
          "metadata": {},
          "execution_count": 46
        }
      ]
    },
    {
      "cell_type": "code",
      "source": [
        "encoder.classes_"
      ],
      "metadata": {
        "colab": {
          "base_uri": "https://localhost:8080/"
        },
        "id": "vbCAfN13R1Jn",
        "outputId": "92c39725-5485-440f-cd1c-0e25fd7f5aef"
      },
      "execution_count": 47,
      "outputs": [
        {
          "output_type": "execute_result",
          "data": {
            "text/plain": [
              "array(['Action', 'Adventure', 'Animation', 'Biography', 'Comedy', 'Crime',\n",
              "       'Drama', 'Fantasy', 'Film-Noir', 'Horror', 'Musical', 'Mystery',\n",
              "       'Western'], dtype=object)"
            ]
          },
          "metadata": {},
          "execution_count": 47
        }
      ]
    },
    {
      "cell_type": "code",
      "source": [
        "data['label'] = labels\n",
        "data"
      ],
      "metadata": {
        "colab": {
          "base_uri": "https://localhost:8080/",
          "height": 925
        },
        "id": "f8rlOos_SEWp",
        "outputId": "dc1e019d-4916-4e71-a620-55d0b1ea50e4"
      },
      "execution_count": 48,
      "outputs": [
        {
          "output_type": "stream",
          "name": "stderr",
          "text": [
            "<ipython-input-48-0ba86314bd48>:1: SettingWithCopyWarning: \n",
            "A value is trying to be set on a copy of a slice from a DataFrame.\n",
            "Try using .loc[row_indexer,col_indexer] = value instead\n",
            "\n",
            "See the caveats in the documentation: https://pandas.pydata.org/pandas-docs/stable/user_guide/indexing.html#returning-a-view-versus-a-copy\n",
            "  data['label'] = labels\n"
          ]
        },
        {
          "output_type": "execute_result",
          "data": {
            "text/plain": [
              "                                        Movie_Title  Year  \\\n",
              "0                                           Kantara  2022   \n",
              "1                                   The Dark Knight  2008   \n",
              "2     The Lord of the Rings: The Return of the King  2003   \n",
              "3                                         Inception  2010   \n",
              "4             The Lord of the Rings: The Two Towers  2002   \n",
              "...                                             ...   ...   \n",
              "5557                                 Disaster Movie  2008   \n",
              "5558                        The Hottie & the Nottie  2008   \n",
              "5559                           From Justin to Kelly  2003   \n",
              "5560                   Superbabies: Baby Geniuses 2  2004   \n",
              "5561                 Cumali Ceber: Allah Seni Alsin  2017   \n",
              "\n",
              "                                      Director  \\\n",
              "0                                Rishab Shetty   \n",
              "1                            Christopher Nolan   \n",
              "2                                Peter Jackson   \n",
              "3                            Christopher Nolan   \n",
              "4                                Peter Jackson   \n",
              "...                                        ...   \n",
              "5557  Directors:Jason Friedberg, Aaron Seltzer   \n",
              "5558                                Tom Putnam   \n",
              "5559                             Robert Iscove   \n",
              "5560                                 Bob Clark   \n",
              "5561                                Gökhan Gök   \n",
              "\n",
              "                                                 Actors  Rating  \\\n",
              "0     Rishab Shetty, Sapthami Gowda, Kishore Kumar G...     9.3   \n",
              "1     Christian Bale, Heath Ledger, Aaron Eckhart, M...     9.0   \n",
              "2     Elijah Wood, Viggo Mortensen, Ian McKellen, Or...     9.0   \n",
              "3     Leonardo DiCaprio, Joseph Gordon-Levitt, Ellio...     8.8   \n",
              "4     Elijah Wood, Ian McKellen, Viggo Mortensen, Or...     8.8   \n",
              "...                                                 ...     ...   \n",
              "5557  Carmen Electra, Vanessa Lachey, Nicole Parker,...     1.9   \n",
              "5558  Paris Hilton, Joel David Moore, Christine Laki...     1.9   \n",
              "5559  Kelly Clarkson, Justin Guarini, Katherine Bail...     1.9   \n",
              "5560  Jon Voight, Scott Baio, Vanessa Angel, Skyler ...     1.5   \n",
              "5561  Halil Söyletmez, Doga Konakoglu, Emre Keskin, ...     1.0   \n",
              "\n",
              "      Runtime(Mins)     Censor   Total_Gross main_genre           side_genre  \\\n",
              "0               148         UA  Gross Unkown     Action    Adventure,  Drama   \n",
              "1               152         UA      $534.86M     Action        Crime,  Drama   \n",
              "2               201          U      $377.85M     Action    Adventure,  Drama   \n",
              "3               148         UA      $292.58M     Action   Adventure,  Sci-Fi   \n",
              "4               179         UA      $342.55M     Action    Adventure,  Drama   \n",
              "...             ...        ...           ...        ...                  ...   \n",
              "5557             87      PG-13       $14.19M     Comedy               Sci-Fi   \n",
              "5558             91      PG-13        $0.03M     Comedy              Romance   \n",
              "5559             81         PG        $4.92M     Comedy    Musical,  Romance   \n",
              "5560             88         PG        $9.11M     Comedy      Family,  Sci-Fi   \n",
              "5561            100  Not Rated  Gross Unkown     Comedy               Comedy   \n",
              "\n",
              "      label  \n",
              "0         0  \n",
              "1         0  \n",
              "2         0  \n",
              "3         0  \n",
              "4         0  \n",
              "...     ...  \n",
              "5557      4  \n",
              "5558      4  \n",
              "5559      4  \n",
              "5560      4  \n",
              "5561      4  \n",
              "\n",
              "[5554 rows x 11 columns]"
            ],
            "text/html": [
              "\n",
              "  <div id=\"df-4ed72234-10fb-4f5c-8dba-eab9191f2669\">\n",
              "    <div class=\"colab-df-container\">\n",
              "      <div>\n",
              "<style scoped>\n",
              "    .dataframe tbody tr th:only-of-type {\n",
              "        vertical-align: middle;\n",
              "    }\n",
              "\n",
              "    .dataframe tbody tr th {\n",
              "        vertical-align: top;\n",
              "    }\n",
              "\n",
              "    .dataframe thead th {\n",
              "        text-align: right;\n",
              "    }\n",
              "</style>\n",
              "<table border=\"1\" class=\"dataframe\">\n",
              "  <thead>\n",
              "    <tr style=\"text-align: right;\">\n",
              "      <th></th>\n",
              "      <th>Movie_Title</th>\n",
              "      <th>Year</th>\n",
              "      <th>Director</th>\n",
              "      <th>Actors</th>\n",
              "      <th>Rating</th>\n",
              "      <th>Runtime(Mins)</th>\n",
              "      <th>Censor</th>\n",
              "      <th>Total_Gross</th>\n",
              "      <th>main_genre</th>\n",
              "      <th>side_genre</th>\n",
              "      <th>label</th>\n",
              "    </tr>\n",
              "  </thead>\n",
              "  <tbody>\n",
              "    <tr>\n",
              "      <th>0</th>\n",
              "      <td>Kantara</td>\n",
              "      <td>2022</td>\n",
              "      <td>Rishab Shetty</td>\n",
              "      <td>Rishab Shetty, Sapthami Gowda, Kishore Kumar G...</td>\n",
              "      <td>9.3</td>\n",
              "      <td>148</td>\n",
              "      <td>UA</td>\n",
              "      <td>Gross Unkown</td>\n",
              "      <td>Action</td>\n",
              "      <td>Adventure,  Drama</td>\n",
              "      <td>0</td>\n",
              "    </tr>\n",
              "    <tr>\n",
              "      <th>1</th>\n",
              "      <td>The Dark Knight</td>\n",
              "      <td>2008</td>\n",
              "      <td>Christopher Nolan</td>\n",
              "      <td>Christian Bale, Heath Ledger, Aaron Eckhart, M...</td>\n",
              "      <td>9.0</td>\n",
              "      <td>152</td>\n",
              "      <td>UA</td>\n",
              "      <td>$534.86M</td>\n",
              "      <td>Action</td>\n",
              "      <td>Crime,  Drama</td>\n",
              "      <td>0</td>\n",
              "    </tr>\n",
              "    <tr>\n",
              "      <th>2</th>\n",
              "      <td>The Lord of the Rings: The Return of the King</td>\n",
              "      <td>2003</td>\n",
              "      <td>Peter Jackson</td>\n",
              "      <td>Elijah Wood, Viggo Mortensen, Ian McKellen, Or...</td>\n",
              "      <td>9.0</td>\n",
              "      <td>201</td>\n",
              "      <td>U</td>\n",
              "      <td>$377.85M</td>\n",
              "      <td>Action</td>\n",
              "      <td>Adventure,  Drama</td>\n",
              "      <td>0</td>\n",
              "    </tr>\n",
              "    <tr>\n",
              "      <th>3</th>\n",
              "      <td>Inception</td>\n",
              "      <td>2010</td>\n",
              "      <td>Christopher Nolan</td>\n",
              "      <td>Leonardo DiCaprio, Joseph Gordon-Levitt, Ellio...</td>\n",
              "      <td>8.8</td>\n",
              "      <td>148</td>\n",
              "      <td>UA</td>\n",
              "      <td>$292.58M</td>\n",
              "      <td>Action</td>\n",
              "      <td>Adventure,  Sci-Fi</td>\n",
              "      <td>0</td>\n",
              "    </tr>\n",
              "    <tr>\n",
              "      <th>4</th>\n",
              "      <td>The Lord of the Rings: The Two Towers</td>\n",
              "      <td>2002</td>\n",
              "      <td>Peter Jackson</td>\n",
              "      <td>Elijah Wood, Ian McKellen, Viggo Mortensen, Or...</td>\n",
              "      <td>8.8</td>\n",
              "      <td>179</td>\n",
              "      <td>UA</td>\n",
              "      <td>$342.55M</td>\n",
              "      <td>Action</td>\n",
              "      <td>Adventure,  Drama</td>\n",
              "      <td>0</td>\n",
              "    </tr>\n",
              "    <tr>\n",
              "      <th>...</th>\n",
              "      <td>...</td>\n",
              "      <td>...</td>\n",
              "      <td>...</td>\n",
              "      <td>...</td>\n",
              "      <td>...</td>\n",
              "      <td>...</td>\n",
              "      <td>...</td>\n",
              "      <td>...</td>\n",
              "      <td>...</td>\n",
              "      <td>...</td>\n",
              "      <td>...</td>\n",
              "    </tr>\n",
              "    <tr>\n",
              "      <th>5557</th>\n",
              "      <td>Disaster Movie</td>\n",
              "      <td>2008</td>\n",
              "      <td>Directors:Jason Friedberg, Aaron Seltzer</td>\n",
              "      <td>Carmen Electra, Vanessa Lachey, Nicole Parker,...</td>\n",
              "      <td>1.9</td>\n",
              "      <td>87</td>\n",
              "      <td>PG-13</td>\n",
              "      <td>$14.19M</td>\n",
              "      <td>Comedy</td>\n",
              "      <td>Sci-Fi</td>\n",
              "      <td>4</td>\n",
              "    </tr>\n",
              "    <tr>\n",
              "      <th>5558</th>\n",
              "      <td>The Hottie &amp; the Nottie</td>\n",
              "      <td>2008</td>\n",
              "      <td>Tom Putnam</td>\n",
              "      <td>Paris Hilton, Joel David Moore, Christine Laki...</td>\n",
              "      <td>1.9</td>\n",
              "      <td>91</td>\n",
              "      <td>PG-13</td>\n",
              "      <td>$0.03M</td>\n",
              "      <td>Comedy</td>\n",
              "      <td>Romance</td>\n",
              "      <td>4</td>\n",
              "    </tr>\n",
              "    <tr>\n",
              "      <th>5559</th>\n",
              "      <td>From Justin to Kelly</td>\n",
              "      <td>2003</td>\n",
              "      <td>Robert Iscove</td>\n",
              "      <td>Kelly Clarkson, Justin Guarini, Katherine Bail...</td>\n",
              "      <td>1.9</td>\n",
              "      <td>81</td>\n",
              "      <td>PG</td>\n",
              "      <td>$4.92M</td>\n",
              "      <td>Comedy</td>\n",
              "      <td>Musical,  Romance</td>\n",
              "      <td>4</td>\n",
              "    </tr>\n",
              "    <tr>\n",
              "      <th>5560</th>\n",
              "      <td>Superbabies: Baby Geniuses 2</td>\n",
              "      <td>2004</td>\n",
              "      <td>Bob Clark</td>\n",
              "      <td>Jon Voight, Scott Baio, Vanessa Angel, Skyler ...</td>\n",
              "      <td>1.5</td>\n",
              "      <td>88</td>\n",
              "      <td>PG</td>\n",
              "      <td>$9.11M</td>\n",
              "      <td>Comedy</td>\n",
              "      <td>Family,  Sci-Fi</td>\n",
              "      <td>4</td>\n",
              "    </tr>\n",
              "    <tr>\n",
              "      <th>5561</th>\n",
              "      <td>Cumali Ceber: Allah Seni Alsin</td>\n",
              "      <td>2017</td>\n",
              "      <td>Gökhan Gök</td>\n",
              "      <td>Halil Söyletmez, Doga Konakoglu, Emre Keskin, ...</td>\n",
              "      <td>1.0</td>\n",
              "      <td>100</td>\n",
              "      <td>Not Rated</td>\n",
              "      <td>Gross Unkown</td>\n",
              "      <td>Comedy</td>\n",
              "      <td>Comedy</td>\n",
              "      <td>4</td>\n",
              "    </tr>\n",
              "  </tbody>\n",
              "</table>\n",
              "<p>5554 rows × 11 columns</p>\n",
              "</div>\n",
              "      <button class=\"colab-df-convert\" onclick=\"convertToInteractive('df-4ed72234-10fb-4f5c-8dba-eab9191f2669')\"\n",
              "              title=\"Convert this dataframe to an interactive table.\"\n",
              "              style=\"display:none;\">\n",
              "        \n",
              "  <svg xmlns=\"http://www.w3.org/2000/svg\" height=\"24px\"viewBox=\"0 0 24 24\"\n",
              "       width=\"24px\">\n",
              "    <path d=\"M0 0h24v24H0V0z\" fill=\"none\"/>\n",
              "    <path d=\"M18.56 5.44l.94 2.06.94-2.06 2.06-.94-2.06-.94-.94-2.06-.94 2.06-2.06.94zm-11 1L8.5 8.5l.94-2.06 2.06-.94-2.06-.94L8.5 2.5l-.94 2.06-2.06.94zm10 10l.94 2.06.94-2.06 2.06-.94-2.06-.94-.94-2.06-.94 2.06-2.06.94z\"/><path d=\"M17.41 7.96l-1.37-1.37c-.4-.4-.92-.59-1.43-.59-.52 0-1.04.2-1.43.59L10.3 9.45l-7.72 7.72c-.78.78-.78 2.05 0 2.83L4 21.41c.39.39.9.59 1.41.59.51 0 1.02-.2 1.41-.59l7.78-7.78 2.81-2.81c.8-.78.8-2.07 0-2.86zM5.41 20L4 18.59l7.72-7.72 1.47 1.35L5.41 20z\"/>\n",
              "  </svg>\n",
              "      </button>\n",
              "      \n",
              "  <style>\n",
              "    .colab-df-container {\n",
              "      display:flex;\n",
              "      flex-wrap:wrap;\n",
              "      gap: 12px;\n",
              "    }\n",
              "\n",
              "    .colab-df-convert {\n",
              "      background-color: #E8F0FE;\n",
              "      border: none;\n",
              "      border-radius: 50%;\n",
              "      cursor: pointer;\n",
              "      display: none;\n",
              "      fill: #1967D2;\n",
              "      height: 32px;\n",
              "      padding: 0 0 0 0;\n",
              "      width: 32px;\n",
              "    }\n",
              "\n",
              "    .colab-df-convert:hover {\n",
              "      background-color: #E2EBFA;\n",
              "      box-shadow: 0px 1px 2px rgba(60, 64, 67, 0.3), 0px 1px 3px 1px rgba(60, 64, 67, 0.15);\n",
              "      fill: #174EA6;\n",
              "    }\n",
              "\n",
              "    [theme=dark] .colab-df-convert {\n",
              "      background-color: #3B4455;\n",
              "      fill: #D2E3FC;\n",
              "    }\n",
              "\n",
              "    [theme=dark] .colab-df-convert:hover {\n",
              "      background-color: #434B5C;\n",
              "      box-shadow: 0px 1px 3px 1px rgba(0, 0, 0, 0.15);\n",
              "      filter: drop-shadow(0px 1px 2px rgba(0, 0, 0, 0.3));\n",
              "      fill: #FFFFFF;\n",
              "    }\n",
              "  </style>\n",
              "\n",
              "      <script>\n",
              "        const buttonEl =\n",
              "          document.querySelector('#df-4ed72234-10fb-4f5c-8dba-eab9191f2669 button.colab-df-convert');\n",
              "        buttonEl.style.display =\n",
              "          google.colab.kernel.accessAllowed ? 'block' : 'none';\n",
              "\n",
              "        async function convertToInteractive(key) {\n",
              "          const element = document.querySelector('#df-4ed72234-10fb-4f5c-8dba-eab9191f2669');\n",
              "          const dataTable =\n",
              "            await google.colab.kernel.invokeFunction('convertToInteractive',\n",
              "                                                     [key], {});\n",
              "          if (!dataTable) return;\n",
              "\n",
              "          const docLinkHtml = 'Like what you see? Visit the ' +\n",
              "            '<a target=\"_blank\" href=https://colab.research.google.com/notebooks/data_table.ipynb>data table notebook</a>'\n",
              "            + ' to learn more about interactive tables.';\n",
              "          element.innerHTML = '';\n",
              "          dataTable['output_type'] = 'display_data';\n",
              "          await google.colab.output.renderOutput(dataTable, element);\n",
              "          const docLink = document.createElement('div');\n",
              "          docLink.innerHTML = docLinkHtml;\n",
              "          element.appendChild(docLink);\n",
              "        }\n",
              "      </script>\n",
              "    </div>\n",
              "  </div>\n",
              "  "
            ]
          },
          "metadata": {},
          "execution_count": 48
        }
      ]
    },
    {
      "cell_type": "code",
      "source": [
        "from sklearn.model_selection import train_test_split\n",
        "\n",
        "x_train, x_test, y_train, y_test = train_test_split(data['main_genre'].values, data['label'].values, test_size = 0.2, random_state = 0)"
      ],
      "metadata": {
        "id": "mn_tCpruSQOf"
      },
      "execution_count": 51,
      "outputs": []
    },
    {
      "cell_type": "code",
      "source": [
        "from sklearn.feature_extraction.text import TfidfVectorizer\n",
        "\n",
        "vectorizer = TfidfVectorizer(stop_words='english', lowercase = True)\n",
        "features = vectorizer.fit_transform(x_train) # training vector TF-IDF pada tiap data\n",
        "features_test = vectorizer.transform(x_test)"
      ],
      "metadata": {
        "id": "pJnBfSxCUYN9"
      },
      "execution_count": 52,
      "outputs": []
    },
    {
      "cell_type": "code",
      "source": [
        "features[0]"
      ],
      "metadata": {
        "colab": {
          "base_uri": "https://localhost:8080/"
        },
        "id": "xnQ6NKuhUeC9",
        "outputId": "fde44236-926e-4067-8453-d3aa6742d704"
      },
      "execution_count": 53,
      "outputs": [
        {
          "output_type": "execute_result",
          "data": {
            "text/plain": [
              "<1x14 sparse matrix of type '<class 'numpy.float64'>'\n",
              "\twith 1 stored elements in Compressed Sparse Row format>"
            ]
          },
          "metadata": {},
          "execution_count": 53
        }
      ]
    },
    {
      "cell_type": "code",
      "source": [
        "print(type(features),features.shape)"
      ],
      "metadata": {
        "colab": {
          "base_uri": "https://localhost:8080/"
        },
        "id": "pMgu0EYEUhup",
        "outputId": "691cf384-5708-4c3b-d4c8-ad0f580f3951"
      },
      "execution_count": 54,
      "outputs": [
        {
          "output_type": "stream",
          "name": "stdout",
          "text": [
            "<class 'scipy.sparse._csr.csr_matrix'> (4443, 14)\n"
          ]
        }
      ]
    },
    {
      "cell_type": "code",
      "source": [
        "print(y_train[:10])"
      ],
      "metadata": {
        "colab": {
          "base_uri": "https://localhost:8080/"
        },
        "id": "wIfymWLHUnKc",
        "outputId": "fa9fd7f3-34ee-40cf-b89a-418b40eda7c6"
      },
      "execution_count": 55,
      "outputs": [
        {
          "output_type": "stream",
          "name": "stdout",
          "text": [
            "[0 6 0 4 0 0 6 6 1 4]\n"
          ]
        }
      ]
    },
    {
      "cell_type": "markdown",
      "source": [
        "**SVM**"
      ],
      "metadata": {
        "id": "9iBkLW-cUucS"
      }
    },
    {
      "cell_type": "code",
      "source": [
        "from sklearn.svm import SVC\n",
        "from sklearn.metrics import accuracy_score\n",
        "\n",
        "svm_model = SVC()\n",
        "svm_model.fit(features, y_train)"
      ],
      "metadata": {
        "colab": {
          "base_uri": "https://localhost:8080/",
          "height": 75
        },
        "id": "rDS3Zo9xUqVI",
        "outputId": "fee0118e-a707-478d-8ff3-6685a3e2c2bb"
      },
      "execution_count": 88,
      "outputs": [
        {
          "output_type": "execute_result",
          "data": {
            "text/plain": [
              "SVC()"
            ],
            "text/html": [
              "<style>#sk-container-id-10 {color: black;background-color: white;}#sk-container-id-10 pre{padding: 0;}#sk-container-id-10 div.sk-toggleable {background-color: white;}#sk-container-id-10 label.sk-toggleable__label {cursor: pointer;display: block;width: 100%;margin-bottom: 0;padding: 0.3em;box-sizing: border-box;text-align: center;}#sk-container-id-10 label.sk-toggleable__label-arrow:before {content: \"▸\";float: left;margin-right: 0.25em;color: #696969;}#sk-container-id-10 label.sk-toggleable__label-arrow:hover:before {color: black;}#sk-container-id-10 div.sk-estimator:hover label.sk-toggleable__label-arrow:before {color: black;}#sk-container-id-10 div.sk-toggleable__content {max-height: 0;max-width: 0;overflow: hidden;text-align: left;background-color: #f0f8ff;}#sk-container-id-10 div.sk-toggleable__content pre {margin: 0.2em;color: black;border-radius: 0.25em;background-color: #f0f8ff;}#sk-container-id-10 input.sk-toggleable__control:checked~div.sk-toggleable__content {max-height: 200px;max-width: 100%;overflow: auto;}#sk-container-id-10 input.sk-toggleable__control:checked~label.sk-toggleable__label-arrow:before {content: \"▾\";}#sk-container-id-10 div.sk-estimator input.sk-toggleable__control:checked~label.sk-toggleable__label {background-color: #d4ebff;}#sk-container-id-10 div.sk-label input.sk-toggleable__control:checked~label.sk-toggleable__label {background-color: #d4ebff;}#sk-container-id-10 input.sk-hidden--visually {border: 0;clip: rect(1px 1px 1px 1px);clip: rect(1px, 1px, 1px, 1px);height: 1px;margin: -1px;overflow: hidden;padding: 0;position: absolute;width: 1px;}#sk-container-id-10 div.sk-estimator {font-family: monospace;background-color: #f0f8ff;border: 1px dotted black;border-radius: 0.25em;box-sizing: border-box;margin-bottom: 0.5em;}#sk-container-id-10 div.sk-estimator:hover {background-color: #d4ebff;}#sk-container-id-10 div.sk-parallel-item::after {content: \"\";width: 100%;border-bottom: 1px solid gray;flex-grow: 1;}#sk-container-id-10 div.sk-label:hover label.sk-toggleable__label {background-color: #d4ebff;}#sk-container-id-10 div.sk-serial::before {content: \"\";position: absolute;border-left: 1px solid gray;box-sizing: border-box;top: 0;bottom: 0;left: 50%;z-index: 0;}#sk-container-id-10 div.sk-serial {display: flex;flex-direction: column;align-items: center;background-color: white;padding-right: 0.2em;padding-left: 0.2em;position: relative;}#sk-container-id-10 div.sk-item {position: relative;z-index: 1;}#sk-container-id-10 div.sk-parallel {display: flex;align-items: stretch;justify-content: center;background-color: white;position: relative;}#sk-container-id-10 div.sk-item::before, #sk-container-id-10 div.sk-parallel-item::before {content: \"\";position: absolute;border-left: 1px solid gray;box-sizing: border-box;top: 0;bottom: 0;left: 50%;z-index: -1;}#sk-container-id-10 div.sk-parallel-item {display: flex;flex-direction: column;z-index: 1;position: relative;background-color: white;}#sk-container-id-10 div.sk-parallel-item:first-child::after {align-self: flex-end;width: 50%;}#sk-container-id-10 div.sk-parallel-item:last-child::after {align-self: flex-start;width: 50%;}#sk-container-id-10 div.sk-parallel-item:only-child::after {width: 0;}#sk-container-id-10 div.sk-dashed-wrapped {border: 1px dashed gray;margin: 0 0.4em 0.5em 0.4em;box-sizing: border-box;padding-bottom: 0.4em;background-color: white;}#sk-container-id-10 div.sk-label label {font-family: monospace;font-weight: bold;display: inline-block;line-height: 1.2em;}#sk-container-id-10 div.sk-label-container {text-align: center;}#sk-container-id-10 div.sk-container {/* jupyter's `normalize.less` sets `[hidden] { display: none; }` but bootstrap.min.css set `[hidden] { display: none !important; }` so we also need the `!important` here to be able to override the default hidden behavior on the sphinx rendered scikit-learn.org. See: https://github.com/scikit-learn/scikit-learn/issues/21755 */display: inline-block !important;position: relative;}#sk-container-id-10 div.sk-text-repr-fallback {display: none;}</style><div id=\"sk-container-id-10\" class=\"sk-top-container\"><div class=\"sk-text-repr-fallback\"><pre>SVC()</pre><b>In a Jupyter environment, please rerun this cell to show the HTML representation or trust the notebook. <br />On GitHub, the HTML representation is unable to render, please try loading this page with nbviewer.org.</b></div><div class=\"sk-container\" hidden><div class=\"sk-item\"><div class=\"sk-estimator sk-toggleable\"><input class=\"sk-toggleable__control sk-hidden--visually\" id=\"sk-estimator-id-10\" type=\"checkbox\" checked><label for=\"sk-estimator-id-10\" class=\"sk-toggleable__label sk-toggleable__label-arrow\">SVC</label><div class=\"sk-toggleable__content\"><pre>SVC()</pre></div></div></div></div></div>"
            ]
          },
          "metadata": {},
          "execution_count": 88
        }
      ]
    },
    {
      "cell_type": "code",
      "source": [
        "y_pred = svm_model.predict(features_test)\n",
        "accuracy_score(y_test, y_pred)"
      ],
      "metadata": {
        "colab": {
          "base_uri": "https://localhost:8080/"
        },
        "id": "1jqzHgm6U25m",
        "outputId": "46f52687-a13f-4f08-fc0a-59ebf5564308"
      },
      "execution_count": 89,
      "outputs": [
        {
          "output_type": "execute_result",
          "data": {
            "text/plain": [
              "1.0"
            ]
          },
          "metadata": {},
          "execution_count": 89
        }
      ]
    },
    {
      "cell_type": "markdown",
      "source": [
        "**Multinomial navies bayes**"
      ],
      "metadata": {
        "id": "_sn9a_G6VAy4"
      }
    },
    {
      "cell_type": "code",
      "source": [
        "from sklearn.naive_bayes import MultinomialNB\n",
        "from sklearn.metrics import accuracy_score\n",
        "\n",
        "mnb_model = MultinomialNB()\n",
        "mnb_model.fit(features, y_train)"
      ],
      "metadata": {
        "colab": {
          "base_uri": "https://localhost:8080/",
          "height": 75
        },
        "id": "CoclfDKhU8bp",
        "outputId": "79faf237-cb67-4f30-d3ec-7b4a000bbf9d"
      },
      "execution_count": 90,
      "outputs": [
        {
          "output_type": "execute_result",
          "data": {
            "text/plain": [
              "MultinomialNB()"
            ],
            "text/html": [
              "<style>#sk-container-id-11 {color: black;background-color: white;}#sk-container-id-11 pre{padding: 0;}#sk-container-id-11 div.sk-toggleable {background-color: white;}#sk-container-id-11 label.sk-toggleable__label {cursor: pointer;display: block;width: 100%;margin-bottom: 0;padding: 0.3em;box-sizing: border-box;text-align: center;}#sk-container-id-11 label.sk-toggleable__label-arrow:before {content: \"▸\";float: left;margin-right: 0.25em;color: #696969;}#sk-container-id-11 label.sk-toggleable__label-arrow:hover:before {color: black;}#sk-container-id-11 div.sk-estimator:hover label.sk-toggleable__label-arrow:before {color: black;}#sk-container-id-11 div.sk-toggleable__content {max-height: 0;max-width: 0;overflow: hidden;text-align: left;background-color: #f0f8ff;}#sk-container-id-11 div.sk-toggleable__content pre {margin: 0.2em;color: black;border-radius: 0.25em;background-color: #f0f8ff;}#sk-container-id-11 input.sk-toggleable__control:checked~div.sk-toggleable__content {max-height: 200px;max-width: 100%;overflow: auto;}#sk-container-id-11 input.sk-toggleable__control:checked~label.sk-toggleable__label-arrow:before {content: \"▾\";}#sk-container-id-11 div.sk-estimator input.sk-toggleable__control:checked~label.sk-toggleable__label {background-color: #d4ebff;}#sk-container-id-11 div.sk-label input.sk-toggleable__control:checked~label.sk-toggleable__label {background-color: #d4ebff;}#sk-container-id-11 input.sk-hidden--visually {border: 0;clip: rect(1px 1px 1px 1px);clip: rect(1px, 1px, 1px, 1px);height: 1px;margin: -1px;overflow: hidden;padding: 0;position: absolute;width: 1px;}#sk-container-id-11 div.sk-estimator {font-family: monospace;background-color: #f0f8ff;border: 1px dotted black;border-radius: 0.25em;box-sizing: border-box;margin-bottom: 0.5em;}#sk-container-id-11 div.sk-estimator:hover {background-color: #d4ebff;}#sk-container-id-11 div.sk-parallel-item::after {content: \"\";width: 100%;border-bottom: 1px solid gray;flex-grow: 1;}#sk-container-id-11 div.sk-label:hover label.sk-toggleable__label {background-color: #d4ebff;}#sk-container-id-11 div.sk-serial::before {content: \"\";position: absolute;border-left: 1px solid gray;box-sizing: border-box;top: 0;bottom: 0;left: 50%;z-index: 0;}#sk-container-id-11 div.sk-serial {display: flex;flex-direction: column;align-items: center;background-color: white;padding-right: 0.2em;padding-left: 0.2em;position: relative;}#sk-container-id-11 div.sk-item {position: relative;z-index: 1;}#sk-container-id-11 div.sk-parallel {display: flex;align-items: stretch;justify-content: center;background-color: white;position: relative;}#sk-container-id-11 div.sk-item::before, #sk-container-id-11 div.sk-parallel-item::before {content: \"\";position: absolute;border-left: 1px solid gray;box-sizing: border-box;top: 0;bottom: 0;left: 50%;z-index: -1;}#sk-container-id-11 div.sk-parallel-item {display: flex;flex-direction: column;z-index: 1;position: relative;background-color: white;}#sk-container-id-11 div.sk-parallel-item:first-child::after {align-self: flex-end;width: 50%;}#sk-container-id-11 div.sk-parallel-item:last-child::after {align-self: flex-start;width: 50%;}#sk-container-id-11 div.sk-parallel-item:only-child::after {width: 0;}#sk-container-id-11 div.sk-dashed-wrapped {border: 1px dashed gray;margin: 0 0.4em 0.5em 0.4em;box-sizing: border-box;padding-bottom: 0.4em;background-color: white;}#sk-container-id-11 div.sk-label label {font-family: monospace;font-weight: bold;display: inline-block;line-height: 1.2em;}#sk-container-id-11 div.sk-label-container {text-align: center;}#sk-container-id-11 div.sk-container {/* jupyter's `normalize.less` sets `[hidden] { display: none; }` but bootstrap.min.css set `[hidden] { display: none !important; }` so we also need the `!important` here to be able to override the default hidden behavior on the sphinx rendered scikit-learn.org. See: https://github.com/scikit-learn/scikit-learn/issues/21755 */display: inline-block !important;position: relative;}#sk-container-id-11 div.sk-text-repr-fallback {display: none;}</style><div id=\"sk-container-id-11\" class=\"sk-top-container\"><div class=\"sk-text-repr-fallback\"><pre>MultinomialNB()</pre><b>In a Jupyter environment, please rerun this cell to show the HTML representation or trust the notebook. <br />On GitHub, the HTML representation is unable to render, please try loading this page with nbviewer.org.</b></div><div class=\"sk-container\" hidden><div class=\"sk-item\"><div class=\"sk-estimator sk-toggleable\"><input class=\"sk-toggleable__control sk-hidden--visually\" id=\"sk-estimator-id-11\" type=\"checkbox\" checked><label for=\"sk-estimator-id-11\" class=\"sk-toggleable__label sk-toggleable__label-arrow\">MultinomialNB</label><div class=\"sk-toggleable__content\"><pre>MultinomialNB()</pre></div></div></div></div></div>"
            ]
          },
          "metadata": {},
          "execution_count": 90
        }
      ]
    },
    {
      "cell_type": "code",
      "source": [
        "y_pred = mnb_model.predict(features_test)\n",
        "accuracy_score(y_test, y_pred)"
      ],
      "metadata": {
        "colab": {
          "base_uri": "https://localhost:8080/"
        },
        "id": "ylQOdwF5VJoT",
        "outputId": "299be6ec-6ef2-4fb1-dd3b-28c83bfc4445"
      },
      "execution_count": 59,
      "outputs": [
        {
          "output_type": "execute_result",
          "data": {
            "text/plain": [
              "0.9972997299729973"
            ]
          },
          "metadata": {},
          "execution_count": 59
        }
      ]
    },
    {
      "cell_type": "code",
      "source": [
        "from sklearn.metrics import confusion_matrix\n",
        "import seaborn as sns\n",
        "import matplotlib.pyplot as plt\n",
        "\n",
        "conf_mat = confusion_matrix(y_test, y_pred)\n",
        "conf_mat\n",
        "\n",
        "ax = plt.subplots(figsize=(9, 9))\n",
        "ax = sns.heatmap(conf_mat, square = True, annot=True, fmt = 'd', cmap=\"YlGnBu\", cbar = False)\n",
        "plt.xlabel(\"Predicted Class\")\n",
        "plt.ylabel(\"Actual Class\")"
      ],
      "metadata": {
        "colab": {
          "base_uri": "https://localhost:8080/",
          "height": 569
        },
        "id": "MnVZRA78VOZJ",
        "outputId": "acbe526a-dafa-41df-87ab-b2fbe8d5ad9a"
      },
      "execution_count": 60,
      "outputs": [
        {
          "output_type": "execute_result",
          "data": {
            "text/plain": [
              "Text(66.48, 0.5, 'Actual Class')"
            ]
          },
          "metadata": {},
          "execution_count": 60
        },
        {
          "output_type": "display_data",
          "data": {
            "text/plain": [
              "<Figure size 648x648 with 1 Axes>"
            ],
            "image/png": "[encoded data removed]"
          },
          "metadata": {
            "needs_background": "light"
          }
        }
      ]
    },
    {
      "cell_type": "markdown",
      "source": [
        "**Neural Networks**"
      ],
      "metadata": {
        "id": "sSN00tgVVYmH"
      }
    },
    {
      "cell_type": "code",
      "metadata": {
        "id": "difdytYp2LSE"
      },
      "source": [
        "from keras.models import Sequential\n",
        "from keras.layers import Flatten, Dense, Softmax, Dropout\n",
        "\n",
        "model = Sequential()\n",
        "model.add(Dense(256, input_shape = features[0].shape, activation = 'relu'))\n",
        "model.add(Dense(128, activation = 'relu'))\n",
        "model.add(Dense(128, activation = 'sigmoid'))\n",
        "model.add(Dense(128, activation = 'relu'))\n",
        "model.add(Dense(128, activation = 'sigmoid'))\n",
        "model.add(Dropout(0.2))\n",
        "model.add(Dense(19))\n",
        "model.add(Softmax())"
      ],
      "execution_count": 95,
      "outputs": []
    },
    {
      "cell_type": "code",
      "source": [
        "model.compile(optimizer = 'adam',\n",
        "              loss='sparse_categorical_crossentropy',\n",
        "              metrics=['accuracy'])"
      ],
      "metadata": {
        "id": "6pGUnjc8Vgsy"
      },
      "execution_count": 97,
      "outputs": []
    },
    {
      "cell_type": "code",
      "source": [
        "model.summary()"
      ],
      "metadata": {
        "colab": {
          "base_uri": "https://localhost:8080/"
        },
        "id": "ZMydqa_KWAIc",
        "outputId": "1bf3fbb7-c067-472a-e450-8462facfaaf5"
      },
      "execution_count": 64,
      "outputs": [
        {
          "output_type": "stream",
          "name": "stdout",
          "text": [
            "Model: \"sequential\"\n",
            "_________________________________________________________________\n",
            " Layer (type)                Output Shape              Param #   \n",
            "=================================================================\n",
            " dense (Dense)               (None, 1, 256)            3840      \n",
            "                                                                 \n",
            " dense_1 (Dense)             (None, 1, 128)            32896     \n",
            "                                                                 \n",
            " dense_2 (Dense)             (None, 1, 128)            16512     \n",
            "                                                                 \n",
            " dense_3 (Dense)             (None, 1, 128)            16512     \n",
            "                                                                 \n",
            " dense_4 (Dense)             (None, 1, 128)            16512     \n",
            "                                                                 \n",
            " dropout (Dropout)           (None, 1, 128)            0         \n",
            "                                                                 \n",
            " dense_5 (Dense)             (None, 1, 19)             2451      \n",
            "                                                                 \n",
            " softmax (Softmax)           (None, 1, 19)             0         \n",
            "                                                                 \n",
            "=================================================================\n",
            "Total params: 88,723\n",
            "Trainable params: 88,723\n",
            "Non-trainable params: 0\n",
            "_________________________________________________________________\n"
          ]
        }
      ]
    },
    {
      "cell_type": "code",
      "source": [
        "from sklearn.datasets import make_classification\n",
        "from sklearn.model_selection import train_test_split\n",
        "from sklearn.metrics import accuracy_score\n",
        "from sklearn.linear_model import LogisticRegression\n"
      ],
      "metadata": {
        "colab": {
          "base_uri": "https://localhost:8080/",
          "height": 75
        },
        "id": "wsPxngqtb9f4",
        "outputId": "39205bea-64f3-4b5b-e2f6-c2319f04b201"
      },
      "execution_count": 78,
      "outputs": [
        {
          "output_type": "execute_result",
          "data": {
            "text/plain": [
              "LogisticRegression()"
            ],
            "text/html": [
              "<style>#sk-container-id-3 {color: black;background-color: white;}#sk-container-id-3 pre{padding: 0;}#sk-container-id-3 div.sk-toggleable {background-color: white;}#sk-container-id-3 label.sk-toggleable__label {cursor: pointer;display: block;width: 100%;margin-bottom: 0;padding: 0.3em;box-sizing: border-box;text-align: center;}#sk-container-id-3 label.sk-toggleable__label-arrow:before {content: \"▸\";float: left;margin-right: 0.25em;color: #696969;}#sk-container-id-3 label.sk-toggleable__label-arrow:hover:before {color: black;}#sk-container-id-3 div.sk-estimator:hover label.sk-toggleable__label-arrow:before {color: black;}#sk-container-id-3 div.sk-toggleable__content {max-height: 0;max-width: 0;overflow: hidden;text-align: left;background-color: #f0f8ff;}#sk-container-id-3 div.sk-toggleable__content pre {margin: 0.2em;color: black;border-radius: 0.25em;background-color: #f0f8ff;}#sk-container-id-3 input.sk-toggleable__control:checked~div.sk-toggleable__content {max-height: 200px;max-width: 100%;overflow: auto;}#sk-container-id-3 input.sk-toggleable__control:checked~label.sk-toggleable__label-arrow:before {content: \"▾\";}#sk-container-id-3 div.sk-estimator input.sk-toggleable__control:checked~label.sk-toggleable__label {background-color: #d4ebff;}#sk-container-id-3 div.sk-label input.sk-toggleable__control:checked~label.sk-toggleable__label {background-color: #d4ebff;}#sk-container-id-3 input.sk-hidden--visually {border: 0;clip: rect(1px 1px 1px 1px);clip: rect(1px, 1px, 1px, 1px);height: 1px;margin: -1px;overflow: hidden;padding: 0;position: absolute;width: 1px;}#sk-container-id-3 div.sk-estimator {font-family: monospace;background-color: #f0f8ff;border: 1px dotted black;border-radius: 0.25em;box-sizing: border-box;margin-bottom: 0.5em;}#sk-container-id-3 div.sk-estimator:hover {background-color: #d4ebff;}#sk-container-id-3 div.sk-parallel-item::after {content: \"\";width: 100%;border-bottom: 1px solid gray;flex-grow: 1;}#sk-container-id-3 div.sk-label:hover label.sk-toggleable__label {background-color: #d4ebff;}#sk-container-id-3 div.sk-serial::before {content: \"\";position: absolute;border-left: 1px solid gray;box-sizing: border-box;top: 0;bottom: 0;left: 50%;z-index: 0;}#sk-container-id-3 div.sk-serial {display: flex;flex-direction: column;align-items: center;background-color: white;padding-right: 0.2em;padding-left: 0.2em;position: relative;}#sk-container-id-3 div.sk-item {position: relative;z-index: 1;}#sk-container-id-3 div.sk-parallel {display: flex;align-items: stretch;justify-content: center;background-color: white;position: relative;}#sk-container-id-3 div.sk-item::before, #sk-container-id-3 div.sk-parallel-item::before {content: \"\";position: absolute;border-left: 1px solid gray;box-sizing: border-box;top: 0;bottom: 0;left: 50%;z-index: -1;}#sk-container-id-3 div.sk-parallel-item {display: flex;flex-direction: column;z-index: 1;position: relative;background-color: white;}#sk-container-id-3 div.sk-parallel-item:first-child::after {align-self: flex-end;width: 50%;}#sk-container-id-3 div.sk-parallel-item:last-child::after {align-self: flex-start;width: 50%;}#sk-container-id-3 div.sk-parallel-item:only-child::after {width: 0;}#sk-container-id-3 div.sk-dashed-wrapped {border: 1px dashed gray;margin: 0 0.4em 0.5em 0.4em;box-sizing: border-box;padding-bottom: 0.4em;background-color: white;}#sk-container-id-3 div.sk-label label {font-family: monospace;font-weight: bold;display: inline-block;line-height: 1.2em;}#sk-container-id-3 div.sk-label-container {text-align: center;}#sk-container-id-3 div.sk-container {/* jupyter's `normalize.less` sets `[hidden] { display: none; }` but bootstrap.min.css set `[hidden] { display: none !important; }` so we also need the `!important` here to be able to override the default hidden behavior on the sphinx rendered scikit-learn.org. See: https://github.com/scikit-learn/scikit-learn/issues/21755 */display: inline-block !important;position: relative;}#sk-container-id-3 div.sk-text-repr-fallback {display: none;}</style><div id=\"sk-container-id-3\" class=\"sk-top-container\"><div class=\"sk-text-repr-fallback\"><pre>LogisticRegression()</pre><b>In a Jupyter environment, please rerun this cell to show the HTML representation or trust the notebook. <br />On GitHub, the HTML representation is unable to render, please try loading this page with nbviewer.org.</b></div><div class=\"sk-container\" hidden><div class=\"sk-item\"><div class=\"sk-estimator sk-toggleable\"><input class=\"sk-toggleable__control sk-hidden--visually\" id=\"sk-estimator-id-3\" type=\"checkbox\" checked><label for=\"sk-estimator-id-3\" class=\"sk-toggleable__label sk-toggleable__label-arrow\">LogisticRegression</label><div class=\"sk-toggleable__content\"><pre>LogisticRegression()</pre></div></div></div></div></div>"
            ]
          },
          "metadata": {},
          "execution_count": 78
        }
      ]
    },
    {
      "cell_type": "code",
      "source": [
        "print(accuracy_score(ytest, model.predict(xtest)))"
      ],
      "metadata": {
        "colab": {
          "base_uri": "https://localhost:8080/"
        },
        "id": "uUB9yOpSenl2",
        "outputId": "ce344c1e-7cd6-4145-a652-eb8686312150"
      },
      "execution_count": 79,
      "outputs": [
        {
          "output_type": "stream",
          "name": "stdout",
          "text": [
            "0.875\n"
          ]
        }
      ]
    },
    {
      "cell_type": "markdown",
      "source": [
        "**Visualization**"
      ],
      "metadata": {
        "id": "q0sYdrvxh1Rp"
      }
    },
    {
      "cell_type": "code",
      "source": [
        "my_dict={'SVM':'100','Multinomial navies bayes':'99','Neural network':'0.875'}\n",
        "keys = list(my_dict.keys())\n",
        "# get values in the same order as keys, and parse percentage values\n",
        "vals = [float(my_dict[k][:-1]) for k in keys]\n",
        "sns.barplot(x=keys, y=vals)"
      ],
      "metadata": {
        "colab": {
          "base_uri": "https://localhost:8080/",
          "height": 283
        },
        "id": "bCAByImzfHJO",
        "outputId": "9089db73-ffa3-4d6b-d055-b24ef2d38880"
      },
      "execution_count": 104,
      "outputs": [
        {
          "output_type": "execute_result",
          "data": {
            "text/plain": [
              "<Axes: >"
            ]
          },
          "metadata": {},
          "execution_count": 104
        },
        {
          "output_type": "display_data",
          "data": {
            "text/plain": [
              "<Figure size 432x288 with 1 Axes>"
            ],
            "image/png": "[encoded data removed]"
          },
          "metadata": {
            "needs_background": "light"
          }
        }
      ]
    },
    {
      "cell_type": "code",
      "source": [],
      "metadata": {
        "id": "8hfdYieTjrkg"
      },
      "execution_count": null,
      "outputs": []
    }
  ]
}